{
 "cells": [
  {
   "cell_type": "code",
   "execution_count": 14,
   "metadata": {},
   "outputs": [
    {
     "name": "stdout",
     "output_type": "stream",
     "text": [
      "Piensa en un número del 1 al 100 , yo trataré de adivinarlo.\n",
      "Es 50.5? no\n",
      "Es mayor a 50.5? no\n",
      "Es 25.75? no\n",
      "Es mayor a 25.75? si\n",
      "Es 38.125? no\n",
      "Es mayor a 38.125? no\n",
      "Es 31.9375? no\n",
      "Es mayor a 31.9375? si\n",
      "Es 35.03125? no\n",
      "Es mayor a 35.03125? si\n",
      "Es 36.578125? no\n",
      "Es mayor a 36.578125? no\n",
      "Es 35.8046875? no\n",
      "Es mayor a 35.8046875? si\n",
      "Es 36.19140625? no\n",
      "Es mayor a 36.19140625? si\n",
      "Es 36.384765625? no\n",
      "Es mayor a 36.384765625? no\n",
      "Es 36.2880859375? no\n",
      "Es mayor a 36.2880859375? si\n",
      "Es 36.33642578125? no\n",
      "Es mayor a 36.33642578125? no\n",
      "Es 36.312255859375? no\n",
      "Es mayor a 36.312255859375? no\n",
      "Es 36.3001708984375? no\n",
      "Es mayor a 36.3001708984375? no\n",
      "Es 36.29412841796875? no\n",
      "Es mayor a 36.29412841796875? si\n",
      "Es 36.297149658203125? no\n",
      "Es mayor a 36.297149658203125? si\n",
      "Es 36.29866027832031? no\n",
      "Es mayor a 36.29866027832031? si\n",
      "Es 36.299415588378906? si\n",
      "Ya ves que bien programado estoy!\n"
     ]
    }
   ],
   "source": [
    "a = 1\n",
    "b = 100\n",
    "print(\"Piensa en un número del\", a, \"al\", b,\", yo trataré de adivinarlo.\")\n",
    "termina = False\n",
    "while not termina:  # termina == False\n",
    "    n = (a+b) / 2             # división entera (si ambas partes son enteras)\n",
    "    es_el_valor = input(\"Es \" + str(n) + \"? \")\n",
    "    if es_el_valor == \"no\":\n",
    "        respuesta = input(\"Es mayor a \" + str(n) + \"? \")\n",
    "        if respuesta == \"si\":\n",
    "            a = n\n",
    "        else:\n",
    "            b = n\n",
    "    else:\n",
    "        termina = True\n",
    "print(\"Ya ves que bien programado estoy!\")"
   ]
  },
  {
   "cell_type": "code",
   "execution_count": null,
   "metadata": {
    "collapsed": true
   },
   "outputs": [],
   "source": []
  }
 ],
 "metadata": {
  "kernelspec": {
   "display_name": "Python 3",
   "language": "python",
   "name": "python3"
  },
  "language_info": {
   "codemirror_mode": {
    "name": "ipython",
    "version": 3
   },
   "file_extension": ".py",
   "mimetype": "text/x-python",
   "name": "python",
   "nbconvert_exporter": "python",
   "pygments_lexer": "ipython3",
   "version": "3.6.4"
  }
 },
 "nbformat": 4,
 "nbformat_minor": 2
}
