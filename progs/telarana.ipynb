{
 "cells": [
  {
   "cell_type": "code",
   "execution_count": 2,
   "metadata": {
    "collapsed": true
   },
   "outputs": [
    {
     "data": {
      "text/html": [
       "\n",
       "    <div class=\"bk-root\">\n",
       "        <a href=\"https://bokeh.pydata.org\" target=\"_blank\" class=\"bk-logo bk-logo-small bk-logo-notebook\"></a>\n",
       "        <span id=\"39785391-0166-43a2-9711-ca0bde79de64\">Loading BokehJS ...</span>\n",
       "    </div>"
      ]
     },
     "metadata": {},
     "output_type": "display_data"
    },
    {
     "data": {
      "application/javascript": [
       "\n",
       "(function(root) {\n",
       "  function now() {\n",
       "    return new Date();\n",
       "  }\n",
       "\n",
       "  var force = true;\n",
       "\n",
       "  if (typeof (root._bokeh_onload_callbacks) === \"undefined\" || force === true) {\n",
       "    root._bokeh_onload_callbacks = [];\n",
       "    root._bokeh_is_loading = undefined;\n",
       "  }\n",
       "\n",
       "  var JS_MIME_TYPE = 'application/javascript';\n",
       "  var HTML_MIME_TYPE = 'text/html';\n",
       "  var EXEC_MIME_TYPE = 'application/vnd.bokehjs_exec.v0+json';\n",
       "  var CLASS_NAME = 'output_bokeh rendered_html';\n",
       "\n",
       "  /**\n",
       "   * Render data to the DOM node\n",
       "   */\n",
       "  function render(props, node) {\n",
       "    var script = document.createElement(\"script\");\n",
       "    node.appendChild(script);\n",
       "  }\n",
       "\n",
       "  /**\n",
       "   * Handle when an output is cleared or removed\n",
       "   */\n",
       "  function handleClearOutput(event, handle) {\n",
       "    var cell = handle.cell;\n",
       "\n",
       "    var id = cell.output_area._bokeh_element_id;\n",
       "    var server_id = cell.output_area._bokeh_server_id;\n",
       "    // Clean up Bokeh references\n",
       "    if (id !== undefined) {\n",
       "      Bokeh.index[id].model.document.clear();\n",
       "      delete Bokeh.index[id];\n",
       "    }\n",
       "\n",
       "    if (server_id !== undefined) {\n",
       "      // Clean up Bokeh references\n",
       "      var cmd = \"from bokeh.io.state import curstate; print(curstate().uuid_to_server['\" + server_id + \"'].get_sessions()[0].document.roots[0]._id)\";\n",
       "      cell.notebook.kernel.execute(cmd, {\n",
       "        iopub: {\n",
       "          output: function(msg) {\n",
       "            var element_id = msg.content.text.trim();\n",
       "            Bokeh.index[element_id].model.document.clear();\n",
       "            delete Bokeh.index[element_id];\n",
       "          }\n",
       "        }\n",
       "      });\n",
       "      // Destroy server and session\n",
       "      var cmd = \"import bokeh.io.notebook as ion; ion.destroy_server('\" + server_id + \"')\";\n",
       "      cell.notebook.kernel.execute(cmd);\n",
       "    }\n",
       "  }\n",
       "\n",
       "  /**\n",
       "   * Handle when a new output is added\n",
       "   */\n",
       "  function handleAddOutput(event, handle) {\n",
       "    var output_area = handle.output_area;\n",
       "    var output = handle.output;\n",
       "\n",
       "    // limit handleAddOutput to display_data with EXEC_MIME_TYPE content only\n",
       "    if ((output.output_type != \"display_data\") || (!output.data.hasOwnProperty(EXEC_MIME_TYPE))) {\n",
       "      return\n",
       "    }\n",
       "\n",
       "    var toinsert = output_area.element.find(\".\" + CLASS_NAME.split(' ')[0]);\n",
       "\n",
       "    if (output.metadata[EXEC_MIME_TYPE][\"id\"] !== undefined) {\n",
       "      toinsert[0].firstChild.textContent = output.data[JS_MIME_TYPE];\n",
       "      // store reference to embed id on output_area\n",
       "      output_area._bokeh_element_id = output.metadata[EXEC_MIME_TYPE][\"id\"];\n",
       "    }\n",
       "    if (output.metadata[EXEC_MIME_TYPE][\"server_id\"] !== undefined) {\n",
       "      var bk_div = document.createElement(\"div\");\n",
       "      bk_div.innerHTML = output.data[HTML_MIME_TYPE];\n",
       "      var script_attrs = bk_div.children[0].attributes;\n",
       "      for (var i = 0; i < script_attrs.length; i++) {\n",
       "        toinsert[0].firstChild.setAttribute(script_attrs[i].name, script_attrs[i].value);\n",
       "      }\n",
       "      // store reference to server id on output_area\n",
       "      output_area._bokeh_server_id = output.metadata[EXEC_MIME_TYPE][\"server_id\"];\n",
       "    }\n",
       "  }\n",
       "\n",
       "  function register_renderer(events, OutputArea) {\n",
       "\n",
       "    function append_mime(data, metadata, element) {\n",
       "      // create a DOM node to render to\n",
       "      var toinsert = this.create_output_subarea(\n",
       "        metadata,\n",
       "        CLASS_NAME,\n",
       "        EXEC_MIME_TYPE\n",
       "      );\n",
       "      this.keyboard_manager.register_events(toinsert);\n",
       "      // Render to node\n",
       "      var props = {data: data, metadata: metadata[EXEC_MIME_TYPE]};\n",
       "      render(props, toinsert[0]);\n",
       "      element.append(toinsert);\n",
       "      return toinsert\n",
       "    }\n",
       "\n",
       "    /* Handle when an output is cleared or removed */\n",
       "    events.on('clear_output.CodeCell', handleClearOutput);\n",
       "    events.on('delete.Cell', handleClearOutput);\n",
       "\n",
       "    /* Handle when a new output is added */\n",
       "    events.on('output_added.OutputArea', handleAddOutput);\n",
       "\n",
       "    /**\n",
       "     * Register the mime type and append_mime function with output_area\n",
       "     */\n",
       "    OutputArea.prototype.register_mime_type(EXEC_MIME_TYPE, append_mime, {\n",
       "      /* Is output safe? */\n",
       "      safe: true,\n",
       "      /* Index of renderer in `output_area.display_order` */\n",
       "      index: 0\n",
       "    });\n",
       "  }\n",
       "\n",
       "  // register the mime type if in Jupyter Notebook environment and previously unregistered\n",
       "  if (root.Jupyter !== undefined) {\n",
       "    var events = require('base/js/events');\n",
       "    var OutputArea = require('notebook/js/outputarea').OutputArea;\n",
       "\n",
       "    if (OutputArea.prototype.mime_types().indexOf(EXEC_MIME_TYPE) == -1) {\n",
       "      register_renderer(events, OutputArea);\n",
       "    }\n",
       "  }\n",
       "\n",
       "  \n",
       "  if (typeof (root._bokeh_timeout) === \"undefined\" || force === true) {\n",
       "    root._bokeh_timeout = Date.now() + 5000;\n",
       "    root._bokeh_failed_load = false;\n",
       "  }\n",
       "\n",
       "  var NB_LOAD_WARNING = {'data': {'text/html':\n",
       "     \"<div style='background-color: #fdd'>\\n\"+\n",
       "     \"<p>\\n\"+\n",
       "     \"BokehJS does not appear to have successfully loaded. If loading BokehJS from CDN, this \\n\"+\n",
       "     \"may be due to a slow or bad network connection. Possible fixes:\\n\"+\n",
       "     \"</p>\\n\"+\n",
       "     \"<ul>\\n\"+\n",
       "     \"<li>re-rerun `output_notebook()` to attempt to load from CDN again, or</li>\\n\"+\n",
       "     \"<li>use INLINE resources instead, as so:</li>\\n\"+\n",
       "     \"</ul>\\n\"+\n",
       "     \"<code>\\n\"+\n",
       "     \"from bokeh.resources import INLINE\\n\"+\n",
       "     \"output_notebook(resources=INLINE)\\n\"+\n",
       "     \"</code>\\n\"+\n",
       "     \"</div>\"}};\n",
       "\n",
       "  function display_loaded() {\n",
       "    var el = document.getElementById(\"39785391-0166-43a2-9711-ca0bde79de64\");\n",
       "    if (el != null) {\n",
       "      el.textContent = \"BokehJS is loading...\";\n",
       "    }\n",
       "    if (root.Bokeh !== undefined) {\n",
       "      if (el != null) {\n",
       "        el.textContent = \"BokehJS \" + root.Bokeh.version + \" successfully loaded.\";\n",
       "      }\n",
       "    } else if (Date.now() < root._bokeh_timeout) {\n",
       "      setTimeout(display_loaded, 100)\n",
       "    }\n",
       "  }\n",
       "\n",
       "\n",
       "  function run_callbacks() {\n",
       "    try {\n",
       "      root._bokeh_onload_callbacks.forEach(function(callback) { callback() });\n",
       "    }\n",
       "    finally {\n",
       "      delete root._bokeh_onload_callbacks\n",
       "    }\n",
       "    console.info(\"Bokeh: all callbacks have finished\");\n",
       "  }\n",
       "\n",
       "  function load_libs(js_urls, callback) {\n",
       "    root._bokeh_onload_callbacks.push(callback);\n",
       "    if (root._bokeh_is_loading > 0) {\n",
       "      console.log(\"Bokeh: BokehJS is being loaded, scheduling callback at\", now());\n",
       "      return null;\n",
       "    }\n",
       "    if (js_urls == null || js_urls.length === 0) {\n",
       "      run_callbacks();\n",
       "      return null;\n",
       "    }\n",
       "    console.log(\"Bokeh: BokehJS not loaded, scheduling load and callback at\", now());\n",
       "    root._bokeh_is_loading = js_urls.length;\n",
       "    for (var i = 0; i < js_urls.length; i++) {\n",
       "      var url = js_urls[i];\n",
       "      var s = document.createElement('script');\n",
       "      s.src = url;\n",
       "      s.async = false;\n",
       "      s.onreadystatechange = s.onload = function() {\n",
       "        root._bokeh_is_loading--;\n",
       "        if (root._bokeh_is_loading === 0) {\n",
       "          console.log(\"Bokeh: all BokehJS libraries loaded\");\n",
       "          run_callbacks()\n",
       "        }\n",
       "      };\n",
       "      s.onerror = function() {\n",
       "        console.warn(\"failed to load library \" + url);\n",
       "      };\n",
       "      console.log(\"Bokeh: injecting script tag for BokehJS library: \", url);\n",
       "      document.getElementsByTagName(\"head\")[0].appendChild(s);\n",
       "    }\n",
       "  };var element = document.getElementById(\"39785391-0166-43a2-9711-ca0bde79de64\");\n",
       "  if (element == null) {\n",
       "    console.log(\"Bokeh: ERROR: autoload.js configured with elementid '39785391-0166-43a2-9711-ca0bde79de64' but no matching script tag was found. \")\n",
       "    return false;\n",
       "  }\n",
       "\n",
       "  var js_urls = [\"https://cdn.pydata.org/bokeh/release/bokeh-0.12.14.min.js\", \"https://cdn.pydata.org/bokeh/release/bokeh-widgets-0.12.14.min.js\", \"https://cdn.pydata.org/bokeh/release/bokeh-tables-0.12.14.min.js\", \"https://cdn.pydata.org/bokeh/release/bokeh-gl-0.12.14.min.js\"];\n",
       "\n",
       "  var inline_js = [\n",
       "    function(Bokeh) {\n",
       "      Bokeh.set_log_level(\"info\");\n",
       "    },\n",
       "    \n",
       "    function(Bokeh) {\n",
       "      \n",
       "    },\n",
       "    function(Bokeh) {\n",
       "      console.log(\"Bokeh: injecting CSS: https://cdn.pydata.org/bokeh/release/bokeh-0.12.14.min.css\");\n",
       "      Bokeh.embed.inject_css(\"https://cdn.pydata.org/bokeh/release/bokeh-0.12.14.min.css\");\n",
       "      console.log(\"Bokeh: injecting CSS: https://cdn.pydata.org/bokeh/release/bokeh-widgets-0.12.14.min.css\");\n",
       "      Bokeh.embed.inject_css(\"https://cdn.pydata.org/bokeh/release/bokeh-widgets-0.12.14.min.css\");\n",
       "      console.log(\"Bokeh: injecting CSS: https://cdn.pydata.org/bokeh/release/bokeh-tables-0.12.14.min.css\");\n",
       "      Bokeh.embed.inject_css(\"https://cdn.pydata.org/bokeh/release/bokeh-tables-0.12.14.min.css\");\n",
       "    }\n",
       "  ];\n",
       "\n",
       "  function run_inline_js() {\n",
       "    \n",
       "    if ((root.Bokeh !== undefined) || (force === true)) {\n",
       "      for (var i = 0; i < inline_js.length; i++) {\n",
       "        inline_js[i].call(root, root.Bokeh);\n",
       "      }if (force === true) {\n",
       "        display_loaded();\n",
       "      }} else if (Date.now() < root._bokeh_timeout) {\n",
       "      setTimeout(run_inline_js, 100);\n",
       "    } else if (!root._bokeh_failed_load) {\n",
       "      console.log(\"Bokeh: BokehJS failed to load within specified timeout.\");\n",
       "      root._bokeh_failed_load = true;\n",
       "    } else if (force !== true) {\n",
       "      var cell = $(document.getElementById(\"39785391-0166-43a2-9711-ca0bde79de64\")).parents('.cell').data().cell;\n",
       "      cell.output_area.append_execute_result(NB_LOAD_WARNING)\n",
       "    }\n",
       "\n",
       "  }\n",
       "\n",
       "  if (root._bokeh_is_loading === 0) {\n",
       "    console.log(\"Bokeh: BokehJS loaded, going straight to plotting\");\n",
       "    run_inline_js();\n",
       "  } else {\n",
       "    load_libs(js_urls, function() {\n",
       "      console.log(\"Bokeh: BokehJS plotting callback run at\", now());\n",
       "      run_inline_js();\n",
       "    });\n",
       "  }\n",
       "}(window));"
      ],
      "application/vnd.bokehjs_load.v0+json": "\n(function(root) {\n  function now() {\n    return new Date();\n  }\n\n  var force = true;\n\n  if (typeof (root._bokeh_onload_callbacks) === \"undefined\" || force === true) {\n    root._bokeh_onload_callbacks = [];\n    root._bokeh_is_loading = undefined;\n  }\n\n  \n\n  \n  if (typeof (root._bokeh_timeout) === \"undefined\" || force === true) {\n    root._bokeh_timeout = Date.now() + 5000;\n    root._bokeh_failed_load = false;\n  }\n\n  var NB_LOAD_WARNING = {'data': {'text/html':\n     \"<div style='background-color: #fdd'>\\n\"+\n     \"<p>\\n\"+\n     \"BokehJS does not appear to have successfully loaded. If loading BokehJS from CDN, this \\n\"+\n     \"may be due to a slow or bad network connection. Possible fixes:\\n\"+\n     \"</p>\\n\"+\n     \"<ul>\\n\"+\n     \"<li>re-rerun `output_notebook()` to attempt to load from CDN again, or</li>\\n\"+\n     \"<li>use INLINE resources instead, as so:</li>\\n\"+\n     \"</ul>\\n\"+\n     \"<code>\\n\"+\n     \"from bokeh.resources import INLINE\\n\"+\n     \"output_notebook(resources=INLINE)\\n\"+\n     \"</code>\\n\"+\n     \"</div>\"}};\n\n  function display_loaded() {\n    var el = document.getElementById(\"39785391-0166-43a2-9711-ca0bde79de64\");\n    if (el != null) {\n      el.textContent = \"BokehJS is loading...\";\n    }\n    if (root.Bokeh !== undefined) {\n      if (el != null) {\n        el.textContent = \"BokehJS \" + root.Bokeh.version + \" successfully loaded.\";\n      }\n    } else if (Date.now() < root._bokeh_timeout) {\n      setTimeout(display_loaded, 100)\n    }\n  }\n\n\n  function run_callbacks() {\n    try {\n      root._bokeh_onload_callbacks.forEach(function(callback) { callback() });\n    }\n    finally {\n      delete root._bokeh_onload_callbacks\n    }\n    console.info(\"Bokeh: all callbacks have finished\");\n  }\n\n  function load_libs(js_urls, callback) {\n    root._bokeh_onload_callbacks.push(callback);\n    if (root._bokeh_is_loading > 0) {\n      console.log(\"Bokeh: BokehJS is being loaded, scheduling callback at\", now());\n      return null;\n    }\n    if (js_urls == null || js_urls.length === 0) {\n      run_callbacks();\n      return null;\n    }\n    console.log(\"Bokeh: BokehJS not loaded, scheduling load and callback at\", now());\n    root._bokeh_is_loading = js_urls.length;\n    for (var i = 0; i < js_urls.length; i++) {\n      var url = js_urls[i];\n      var s = document.createElement('script');\n      s.src = url;\n      s.async = false;\n      s.onreadystatechange = s.onload = function() {\n        root._bokeh_is_loading--;\n        if (root._bokeh_is_loading === 0) {\n          console.log(\"Bokeh: all BokehJS libraries loaded\");\n          run_callbacks()\n        }\n      };\n      s.onerror = function() {\n        console.warn(\"failed to load library \" + url);\n      };\n      console.log(\"Bokeh: injecting script tag for BokehJS library: \", url);\n      document.getElementsByTagName(\"head\")[0].appendChild(s);\n    }\n  };var element = document.getElementById(\"39785391-0166-43a2-9711-ca0bde79de64\");\n  if (element == null) {\n    console.log(\"Bokeh: ERROR: autoload.js configured with elementid '39785391-0166-43a2-9711-ca0bde79de64' but no matching script tag was found. \")\n    return false;\n  }\n\n  var js_urls = [\"https://cdn.pydata.org/bokeh/release/bokeh-0.12.14.min.js\", \"https://cdn.pydata.org/bokeh/release/bokeh-widgets-0.12.14.min.js\", \"https://cdn.pydata.org/bokeh/release/bokeh-tables-0.12.14.min.js\", \"https://cdn.pydata.org/bokeh/release/bokeh-gl-0.12.14.min.js\"];\n\n  var inline_js = [\n    function(Bokeh) {\n      Bokeh.set_log_level(\"info\");\n    },\n    \n    function(Bokeh) {\n      \n    },\n    function(Bokeh) {\n      console.log(\"Bokeh: injecting CSS: https://cdn.pydata.org/bokeh/release/bokeh-0.12.14.min.css\");\n      Bokeh.embed.inject_css(\"https://cdn.pydata.org/bokeh/release/bokeh-0.12.14.min.css\");\n      console.log(\"Bokeh: injecting CSS: https://cdn.pydata.org/bokeh/release/bokeh-widgets-0.12.14.min.css\");\n      Bokeh.embed.inject_css(\"https://cdn.pydata.org/bokeh/release/bokeh-widgets-0.12.14.min.css\");\n      console.log(\"Bokeh: injecting CSS: https://cdn.pydata.org/bokeh/release/bokeh-tables-0.12.14.min.css\");\n      Bokeh.embed.inject_css(\"https://cdn.pydata.org/bokeh/release/bokeh-tables-0.12.14.min.css\");\n    }\n  ];\n\n  function run_inline_js() {\n    \n    if ((root.Bokeh !== undefined) || (force === true)) {\n      for (var i = 0; i < inline_js.length; i++) {\n        inline_js[i].call(root, root.Bokeh);\n      }if (force === true) {\n        display_loaded();\n      }} else if (Date.now() < root._bokeh_timeout) {\n      setTimeout(run_inline_js, 100);\n    } else if (!root._bokeh_failed_load) {\n      console.log(\"Bokeh: BokehJS failed to load within specified timeout.\");\n      root._bokeh_failed_load = true;\n    } else if (force !== true) {\n      var cell = $(document.getElementById(\"39785391-0166-43a2-9711-ca0bde79de64\")).parents('.cell').data().cell;\n      cell.output_area.append_execute_result(NB_LOAD_WARNING)\n    }\n\n  }\n\n  if (root._bokeh_is_loading === 0) {\n    console.log(\"Bokeh: BokehJS loaded, going straight to plotting\");\n    run_inline_js();\n  } else {\n    load_libs(js_urls, function() {\n      console.log(\"Bokeh: BokehJS plotting callback run at\", now());\n      run_inline_js();\n    });\n  }\n}(window));"
     },
     "metadata": {},
     "output_type": "display_data"
    }
   ],
   "source": [
    "import numpy as np\n",
    "from bokeh.plotting import figure, show, output_notebook\n",
    "output_notebook()"
   ]
  },
  {
   "cell_type": "code",
   "execution_count": 5,
   "metadata": {},
   "outputs": [
    {
     "data": {
      "text/html": [
       "\n",
       "<div class=\"bk-root\">\n",
       "    <div class=\"bk-plotdiv\" id=\"b1de667c-9832-4703-9883-5d7a1d4da06d\"></div>\n",
       "</div>"
      ]
     },
     "metadata": {},
     "output_type": "display_data"
    },
    {
     "data": {
      "application/javascript": [
       "(function(root) {\n",
       "  function embed_document(root) {\n",
       "    \n",
       "  var docs_json = {\"d249dabe-b86d-4454-8645-fd9dc49bd9ba\":{\"roots\":{\"references\":[{\"attributes\":{\"callback\":null,\"column_names\":[\"x\",\"y\"],\"data\":{\"x\":{\"__ndarray__\":\"GC1EVPshCcBLYHeHLlUIwH6TqrphiAfAscbd7ZS7BsDk+RAhyO4FwBctRFT7IQXASmB3hy5VBMB9k6q6YYgDwLDG3e2UuwLA4/kQIcjuAcAWLURU+yEBwElgd4cuVQDA+CZVdcMQ/79ejbvbKXf9v8TzIUKQ3fu/KlqIqPZD+r+QwO4OXar4v/YmVXXDEPe/XI272yl39b/C8yFCkN3zvyhaiKj2Q/K/jsDuDl2q8L/oTarqhiHuv7Qad7dT7uq/gOdDhCC7579MtBBR7YfkvxiB3R26VOG/yJtU1Q1D3L9gNe5up9zVv/CdDxGC7M6/INFCRLUfwr9AEdjdoUulvwAiW1WR560/UJUjIrFGxD8QMXj3vonQP3iX3l0l8NY/4P1ExItW3T8kslUVed7hP1jliEisEeU/jBi8e99E6D/AS++uEnjrP/B+IuJFq+4/FNmqijzv8D+wckQk1ojyP0gM3r1vIvQ/4KV3Vwm89T98PxHxolX3PxjZqoo87/g/sHJEJNaI+j9IDN69byL8P+Sld1cJvP0/gD8R8aJV/z+MbFVFnncAQFg5IhJrRAFAJgbv3jcRAkD00rurBN4CQMCfiHjRqgNAjGxVRZ53BEBaOSISa0QFQCgG7943EQZA9NK7qwTeBkDAn4h40aoHQI5sVUWedwhA\",\"dtype\":\"float64\",\"shape\":[63]},\"y\":{\"__ndarray__\":\"B1wUMyamobw7y4vLro65v8bSPSP/bcm/Orq6lc3p0r9yZyvpOuzYv/kFS3Tort6/XkGlF40R4r+9GUZpbp3kv9L+v8KU9Oa/RqhdmAMR6b/zDAmPVO3qvzxjLUzFhOy/yFUaokPT7b9OHsX5d9XuvwThRN/NiO+/jG0sm3rr77/FQuDHgfzvv7WYL9e3u++/7RW9gcIp779SOBofF0juvz+00er2GO2/8nLrP2mf67/+1qrZM9/pvxYvWC3R3Oe/jNHD9WSd5b+gys8Nrybjv6mFoLv8fuC/5qYkJDFa27+Y5V0jcnDVv4EwSNa4n86/+NS2bTgQwr+dDpiCD0qlv8Mu6Dk3460/+gy3ygIxxD+kTP8QyVrQP1Ziun47c9Y/JdLwQ0FS3D9ZGy7savTgP7fA7P9WlOM/47MfLS4C5j/EHtzduTfoP8vI4npTL+o/6BLQ3/Lj6z82igE6O1HtP/ooRTGGc+4/h0DHPe1H7z++7F0TUczvP1PsNw9f/+8//D0MmpTg7z+e6yJ2QHDvPyeZ4PWBr+4/qSLYHEag7T/EJLqyQkXsPyQSvFTvoeo/VgUyl3y66D80sApOyZPmP5T1lhdWM+Q/fsd6STef4T+B347HCrzdP8C8C2SY7dc/YqKwivHh0T+6+jPXGVHHP5bLvttYRbU/\",\"dtype\":\"float64\",\"shape\":[63]}}},\"id\":\"0978faf6-2c33-41e9-9092-6b52b61eb691\",\"type\":\"ColumnDataSource\"},{\"attributes\":{\"below\":[{\"id\":\"b4afae31-3111-47c7-b6fd-070b922c4d92\",\"type\":\"LinearAxis\"}],\"left\":[{\"id\":\"f3e29644-7000-486f-b092-b0dcb3c449bb\",\"type\":\"LinearAxis\"}],\"renderers\":[{\"id\":\"b4afae31-3111-47c7-b6fd-070b922c4d92\",\"type\":\"LinearAxis\"},{\"id\":\"b66272ba-7a25-4b2e-a3d4-44fa8cc569cc\",\"type\":\"Grid\"},{\"id\":\"f3e29644-7000-486f-b092-b0dcb3c449bb\",\"type\":\"LinearAxis\"},{\"id\":\"2f94dec3-9718-43ec-94f3-b4407dfc0496\",\"type\":\"Grid\"},{\"id\":\"b43674df-61f7-4434-b2ea-b10205c1fd49\",\"type\":\"BoxAnnotation\"},{\"id\":\"8f826f31-0c5f-4666-965a-634ba3c9ac9a\",\"type\":\"GlyphRenderer\"},{\"id\":\"8b477cf9-6cc4-42d6-9190-cad4dd04cb8c\",\"type\":\"GlyphRenderer\"}],\"title\":{\"id\":\"31545afa-c0ef-4761-b5e7-49aaec6c614f\",\"type\":\"Title\"},\"toolbar\":{\"id\":\"0b439aef-0e0e-49c9-8713-1e787b5190ee\",\"type\":\"Toolbar\"},\"x_range\":{\"id\":\"f6db248e-5fab-45cf-9f1f-4ec6aaa474d9\",\"type\":\"DataRange1d\"},\"x_scale\":{\"id\":\"e848ba0e-dcad-49cf-beb0-73bb5e47f3f0\",\"type\":\"LinearScale\"},\"y_range\":{\"id\":\"d532968d-dc3a-4086-8864-6e3e4ff90368\",\"type\":\"DataRange1d\"},\"y_scale\":{\"id\":\"d3a68f79-f0bc-4f93-bd69-b87acdab5b59\",\"type\":\"LinearScale\"}},\"id\":\"235781e8-69f4-418a-822e-ed6857717a37\",\"subtype\":\"Figure\",\"type\":\"Plot\"},{\"attributes\":{\"data_source\":{\"id\":\"0978faf6-2c33-41e9-9092-6b52b61eb691\",\"type\":\"ColumnDataSource\"},\"glyph\":{\"id\":\"19e52435-6902-4f6a-aee7-f8f581398da0\",\"type\":\"Line\"},\"hover_glyph\":null,\"muted_glyph\":null,\"nonselection_glyph\":{\"id\":\"9ef4953a-73c0-43ae-940d-7417eebc3052\",\"type\":\"Line\"},\"selection_glyph\":null,\"view\":{\"id\":\"50ca1d60-b676-41c9-a094-dda2bacd62f0\",\"type\":\"CDSView\"}},\"id\":\"8f826f31-0c5f-4666-965a-634ba3c9ac9a\",\"type\":\"GlyphRenderer\"},{\"attributes\":{\"active_drag\":\"auto\",\"active_inspect\":\"auto\",\"active_scroll\":\"auto\",\"active_tap\":\"auto\",\"tools\":[{\"id\":\"c5200d97-dd67-4a4a-9219-58697784951f\",\"type\":\"PanTool\"},{\"id\":\"dc3dd480-a3c6-48da-bb88-d8c16fda6aa5\",\"type\":\"WheelZoomTool\"},{\"id\":\"cccb6757-c369-4357-91c9-4cc4fc5022cb\",\"type\":\"BoxZoomTool\"},{\"id\":\"497972dc-3aa5-4224-82d7-22119b3d8cf1\",\"type\":\"SaveTool\"},{\"id\":\"a8dc91f9-9ad8-400f-9de9-a571a580998c\",\"type\":\"ResetTool\"},{\"id\":\"91140f23-b1e4-431c-8b35-4602bd16b25a\",\"type\":\"HelpTool\"}]},\"id\":\"0b439aef-0e0e-49c9-8713-1e787b5190ee\",\"type\":\"Toolbar\"},{\"attributes\":{\"callback\":null},\"id\":\"f6db248e-5fab-45cf-9f1f-4ec6aaa474d9\",\"type\":\"DataRange1d\"},{\"attributes\":{\"x\":{\"field\":\"x\"},\"y\":{\"field\":\"y\"}},\"id\":\"19e52435-6902-4f6a-aee7-f8f581398da0\",\"type\":\"Line\"},{\"attributes\":{\"callback\":null},\"id\":\"d532968d-dc3a-4086-8864-6e3e4ff90368\",\"type\":\"DataRange1d\"},{\"attributes\":{},\"id\":\"e848ba0e-dcad-49cf-beb0-73bb5e47f3f0\",\"type\":\"LinearScale\"},{\"attributes\":{},\"id\":\"d3a68f79-f0bc-4f93-bd69-b87acdab5b59\",\"type\":\"LinearScale\"},{\"attributes\":{\"plot\":{\"id\":\"235781e8-69f4-418a-822e-ed6857717a37\",\"subtype\":\"Figure\",\"type\":\"Plot\"},\"ticker\":{\"id\":\"439f7825-47e3-49f6-9723-5a2e76cf4c8f\",\"type\":\"BasicTicker\"}},\"id\":\"b66272ba-7a25-4b2e-a3d4-44fa8cc569cc\",\"type\":\"Grid\"},{\"attributes\":{\"formatter\":{\"id\":\"5178de66-80c3-40d4-a143-5cf8a2cb1706\",\"type\":\"BasicTickFormatter\"},\"plot\":{\"id\":\"235781e8-69f4-418a-822e-ed6857717a37\",\"subtype\":\"Figure\",\"type\":\"Plot\"},\"ticker\":{\"id\":\"439f7825-47e3-49f6-9723-5a2e76cf4c8f\",\"type\":\"BasicTicker\"}},\"id\":\"b4afae31-3111-47c7-b6fd-070b922c4d92\",\"type\":\"LinearAxis\"},{\"attributes\":{},\"id\":\"439f7825-47e3-49f6-9723-5a2e76cf4c8f\",\"type\":\"BasicTicker\"},{\"attributes\":{\"formatter\":{\"id\":\"ffacc0d9-b277-4d9e-9d33-5d90dbc21d98\",\"type\":\"BasicTickFormatter\"},\"plot\":{\"id\":\"235781e8-69f4-418a-822e-ed6857717a37\",\"subtype\":\"Figure\",\"type\":\"Plot\"},\"ticker\":{\"id\":\"01bdc55f-035a-4b22-9f3c-aad07dac9b9a\",\"type\":\"BasicTicker\"}},\"id\":\"f3e29644-7000-486f-b092-b0dcb3c449bb\",\"type\":\"LinearAxis\"},{\"attributes\":{},\"id\":\"01bdc55f-035a-4b22-9f3c-aad07dac9b9a\",\"type\":\"BasicTicker\"},{\"attributes\":{\"dimension\":1,\"plot\":{\"id\":\"235781e8-69f4-418a-822e-ed6857717a37\",\"subtype\":\"Figure\",\"type\":\"Plot\"},\"ticker\":{\"id\":\"01bdc55f-035a-4b22-9f3c-aad07dac9b9a\",\"type\":\"BasicTicker\"}},\"id\":\"2f94dec3-9718-43ec-94f3-b4407dfc0496\",\"type\":\"Grid\"},{\"attributes\":{\"line_alpha\":0.1,\"line_color\":\"#1f77b4\",\"x\":{\"field\":\"x\"},\"y\":{\"field\":\"y\"}},\"id\":\"9ef4953a-73c0-43ae-940d-7417eebc3052\",\"type\":\"Line\"},{\"attributes\":{\"callback\":null,\"column_names\":[\"x\",\"y\"],\"data\":{\"x\":{\"__ndarray__\":\"GC1EVPshCcBLYHeHLlUIwH6TqrphiAfAscbd7ZS7BsDk+RAhyO4FwBctRFT7IQXASmB3hy5VBMB9k6q6YYgDwLDG3e2UuwLA4/kQIcjuAcAWLURU+yEBwElgd4cuVQDA+CZVdcMQ/79ejbvbKXf9v8TzIUKQ3fu/KlqIqPZD+r+QwO4OXar4v/YmVXXDEPe/XI272yl39b/C8yFCkN3zvyhaiKj2Q/K/jsDuDl2q8L/oTarqhiHuv7Qad7dT7uq/gOdDhCC7579MtBBR7YfkvxiB3R26VOG/yJtU1Q1D3L9gNe5up9zVv/CdDxGC7M6/INFCRLUfwr9AEdjdoUulvwAiW1WR560/UJUjIrFGxD8QMXj3vonQP3iX3l0l8NY/4P1ExItW3T8kslUVed7hP1jliEisEeU/jBi8e99E6D/AS++uEnjrP/B+IuJFq+4/FNmqijzv8D+wckQk1ojyP0gM3r1vIvQ/4KV3Vwm89T98PxHxolX3PxjZqoo87/g/sHJEJNaI+j9IDN69byL8P+Sld1cJvP0/gD8R8aJV/z+MbFVFnncAQFg5IhJrRAFAJgbv3jcRAkD00rurBN4CQMCfiHjRqgNAjGxVRZ53BEBaOSISa0QFQCgG7943EQZA9NK7qwTeBkDAn4h40aoHQI5sVUWedwhA\",\"dtype\":\"float64\",\"shape\":[63]},\"y\":{\"__ndarray__\":\"AAAAAAAA8L/AF6j5Etfvv3pid5W0XO+/uQkv1B2S7r/2otvnVHntv019WwYoFey/EltIPCZp6r+OnZ9Slnnov2CYcd5rS+a/FuKSljrk47+EBrUPKErhvwFhxwa4B92/v3k7lN4w179KTCposx7Rv9dWE7x7wcW/P/nFT9Ubsr/WF1/FeuadP8JsovT5fcA/tA4lT/UUzT/LRTS5xrDUPyRyU1cmoto/2Z6YBLMn4D9+rYhLANXiP/EvMBciUuU/lNGQtLqY5z+Ki4Xv96LpP3r0gPaha+s/rwNmsyju7D9TcFd3rybuP89Ao9sWEu8/1uWFvgSu7z8lplZH6vjvP7TLueIH8u8/sgunLG+Z7z/8vV7DAvDuP1UawQN09+0/TCzStD6y7D8o2X2toiPrP9ao24SbT+k/08g0YtY65z+oJNsGpurkP1AtajD1ZOI/5MaK7G5g3z8IOxaSsabZP2vCYnxXq9M/6TxYVFv7yj+DjFkrB7a8P+1fUEM6X4k/iEFOWFVmtr/mFnwno9/HvyhLa3CFJ9K/91zkjskw2L83azdZLfzdv/cydD9vveG/q7Alb2dP5L9r1Ac8bK3mv54Kg4hv0ei/Qf4Nlve16r86cqcGLVbsvztQ+T7nre2/AyN4Cbe57r+7mElf73bvv9KpeUCs4++/\",\"dtype\":\"float64\",\"shape\":[63]}}},\"id\":\"9aabe527-22fa-4161-a7e1-a89e9b402157\",\"type\":\"ColumnDataSource\"},{\"attributes\":{\"bottom_units\":\"screen\",\"fill_alpha\":{\"value\":0.5},\"fill_color\":{\"value\":\"lightgrey\"},\"left_units\":\"screen\",\"level\":\"overlay\",\"line_alpha\":{\"value\":1.0},\"line_color\":{\"value\":\"black\"},\"line_dash\":[4,4],\"line_width\":{\"value\":2},\"plot\":null,\"render_mode\":\"css\",\"right_units\":\"screen\",\"top_units\":\"screen\"},\"id\":\"b43674df-61f7-4434-b2ea-b10205c1fd49\",\"type\":\"BoxAnnotation\"},{\"attributes\":{},\"id\":\"c5200d97-dd67-4a4a-9219-58697784951f\",\"type\":\"PanTool\"},{\"attributes\":{\"source\":{\"id\":\"0978faf6-2c33-41e9-9092-6b52b61eb691\",\"type\":\"ColumnDataSource\"}},\"id\":\"50ca1d60-b676-41c9-a094-dda2bacd62f0\",\"type\":\"CDSView\"},{\"attributes\":{},\"id\":\"dc3dd480-a3c6-48da-bb88-d8c16fda6aa5\",\"type\":\"WheelZoomTool\"},{\"attributes\":{\"overlay\":{\"id\":\"b43674df-61f7-4434-b2ea-b10205c1fd49\",\"type\":\"BoxAnnotation\"}},\"id\":\"cccb6757-c369-4357-91c9-4cc4fc5022cb\",\"type\":\"BoxZoomTool\"},{\"attributes\":{},\"id\":\"497972dc-3aa5-4224-82d7-22119b3d8cf1\",\"type\":\"SaveTool\"},{\"attributes\":{},\"id\":\"a8dc91f9-9ad8-400f-9de9-a571a580998c\",\"type\":\"ResetTool\"},{\"attributes\":{},\"id\":\"91140f23-b1e4-431c-8b35-4602bd16b25a\",\"type\":\"HelpTool\"},{\"attributes\":{\"line_alpha\":0.1,\"line_color\":\"#1f77b4\",\"x\":{\"field\":\"x\"},\"y\":{\"field\":\"y\"}},\"id\":\"343f8ac5-da20-4e0a-95c8-3e517f6e5d7b\",\"type\":\"Line\"},{\"attributes\":{},\"id\":\"ffacc0d9-b277-4d9e-9d33-5d90dbc21d98\",\"type\":\"BasicTickFormatter\"},{\"attributes\":{\"plot\":null,\"text\":\"\"},\"id\":\"31545afa-c0ef-4761-b5e7-49aaec6c614f\",\"type\":\"Title\"},{\"attributes\":{\"line_color\":\"#1f77b4\",\"x\":{\"field\":\"x\"},\"y\":{\"field\":\"y\"}},\"id\":\"940e8029-98a6-4936-8985-4d67c31d2db3\",\"type\":\"Line\"},{\"attributes\":{\"source\":{\"id\":\"9aabe527-22fa-4161-a7e1-a89e9b402157\",\"type\":\"ColumnDataSource\"}},\"id\":\"2e327422-1bf0-49bb-92cf-93166c50d35b\",\"type\":\"CDSView\"},{\"attributes\":{},\"id\":\"5178de66-80c3-40d4-a143-5cf8a2cb1706\",\"type\":\"BasicTickFormatter\"},{\"attributes\":{\"data_source\":{\"id\":\"9aabe527-22fa-4161-a7e1-a89e9b402157\",\"type\":\"ColumnDataSource\"},\"glyph\":{\"id\":\"940e8029-98a6-4936-8985-4d67c31d2db3\",\"type\":\"Line\"},\"hover_glyph\":null,\"muted_glyph\":null,\"nonselection_glyph\":{\"id\":\"343f8ac5-da20-4e0a-95c8-3e517f6e5d7b\",\"type\":\"Line\"},\"selection_glyph\":null,\"view\":{\"id\":\"2e327422-1bf0-49bb-92cf-93166c50d35b\",\"type\":\"CDSView\"}},\"id\":\"8b477cf9-6cc4-42d6-9190-cad4dd04cb8c\",\"type\":\"GlyphRenderer\"}],\"root_ids\":[\"235781e8-69f4-418a-822e-ed6857717a37\"]},\"title\":\"Bokeh Application\",\"version\":\"0.12.14\"}};\n",
       "  var render_items = [{\"docid\":\"d249dabe-b86d-4454-8645-fd9dc49bd9ba\",\"elementid\":\"b1de667c-9832-4703-9883-5d7a1d4da06d\",\"modelid\":\"235781e8-69f4-418a-822e-ed6857717a37\"}];\n",
       "  root.Bokeh.embed.embed_items_notebook(docs_json, render_items);\n",
       "\n",
       "  }\n",
       "  if (root.Bokeh !== undefined) {\n",
       "    embed_document(root);\n",
       "  } else {\n",
       "    var attempts = 0;\n",
       "    var timer = setInterval(function(root) {\n",
       "      if (root.Bokeh !== undefined) {\n",
       "        embed_document(root);\n",
       "        clearInterval(timer);\n",
       "      }\n",
       "      attempts++;\n",
       "      if (attempts > 100) {\n",
       "        console.log(\"Bokeh: ERROR: Unable to run BokehJS code because BokehJS library is missing\")\n",
       "        clearInterval(timer);\n",
       "      }\n",
       "    }, 10, root)\n",
       "  }\n",
       "})(window);"
      ],
      "application/vnd.bokehjs_exec.v0+json": ""
     },
     "metadata": {
      "application/vnd.bokehjs_exec.v0+json": {
       "id": "235781e8-69f4-418a-822e-ed6857717a37"
      }
     },
     "output_type": "display_data"
    }
   ],
   "source": [
    "def f(x):\n",
    "    return np.sin(x)\n",
    "\n",
    "x = np.arange(-np.pi, np.pi, .1)\n",
    "p=figure()\n",
    "p.line(x, f(x), color='black')\n",
    "p.line(x, np.cos(x))\n",
    "show(p)"
   ]
  },
  {
   "cell_type": "code",
   "execution_count": 6,
   "metadata": {
    "collapsed": true
   },
   "outputs": [],
   "source": [
    "#x = [xinic, xinic, f(xinic), f(xinic), f(f(xinic)), f(f(xinic))] , y = [0, f(xinic), f(xinic), f(f(xinic)), f(f(xinic)), f(f(f(xinic)))]"
   ]
  },
  {
   "cell_type": "code",
   "execution_count": 7,
   "metadata": {},
   "outputs": [
    {
     "name": "stdout",
     "output_type": "stream",
     "text": [
      "<class 'numpy.ndarray'>\n",
      "int64\n",
      "1\n",
      "[1 1 2 2 3 3 4 4 5 5]\n"
     ]
    },
    {
     "data": {
      "text/plain": [
       "array([0, 1, 1, 2, 2, 3, 3, 4, 4, 5])"
      ]
     },
     "execution_count": 7,
     "metadata": {},
     "output_type": "execute_result"
    }
   ],
   "source": [
    "z1 = [1,2,3,4,5]\n",
    "z2 = list(zip(z1, z1))\n",
    "z3 = np.array(z2).flatten()  # flatten=\"aplanar\", deja un arreglo uni-dimensional\n",
    "print(type(z3)) # tipo de dato de la estructura z3\n",
    "print(z3.dtype) # tipo de dato de cada elemento\n",
    "print(z3.ndim)  # número de dimensiones de z3\n",
    "print(z3)\n",
    "np.concatenate(([0], z3[:-1]))"
   ]
  },
  {
   "cell_type": "code",
   "execution_count": 8,
   "metadata": {},
   "outputs": [
    {
     "data": {
      "text/plain": [
       "[1, 2, 3, 4, 5]"
      ]
     },
     "execution_count": 8,
     "metadata": {},
     "output_type": "execute_result"
    }
   ],
   "source": [
    "z1"
   ]
  },
  {
   "cell_type": "code",
   "execution_count": 9,
   "metadata": {},
   "outputs": [
    {
     "data": {
      "text/plain": [
       "array([1, 1, 2, 2, 3, 3, 4, 4, 5, 5])"
      ]
     },
     "execution_count": 9,
     "metadata": {},
     "output_type": "execute_result"
    }
   ],
   "source": [
    "np.array(list(zip(z1, z1))).flatten()"
   ]
  },
  {
   "cell_type": "code",
   "execution_count": 10,
   "metadata": {},
   "outputs": [
    {
     "data": {
      "text/plain": [
       "[0, 1, 2, 3, 4, 5, 6, 7, 8, 9]"
      ]
     },
     "execution_count": 10,
     "metadata": {},
     "output_type": "execute_result"
    }
   ],
   "source": [
    "list(range(10))"
   ]
  },
  {
   "cell_type": "code",
   "execution_count": 13,
   "metadata": {},
   "outputs": [],
   "source": [
    "def telaraña(f, x, xiniciales, n=20):\n",
    "    \"Dibuja el diagrama de telaraña de f sobre el arreglo x, con valor(es) inicial(es) xinic.\"\n",
    "    \"grafica la función sobre x\"\n",
    "    p=figure()\n",
    "    p.line(x, f(x), color='black')\n",
    "    \"diagonal\"\n",
    "    p.line(x, x, color=\"red\")\n",
    "    def iteraciones(xinic):\n",
    "        \"iteraciones\"\n",
    "        x1 = [xinic]\n",
    "        for _ in range(n//2):\n",
    "            x1.append(f(x1[-1]))\n",
    "        \"duplicando x1\"\n",
    "        x2 = list(zip(x1, x1)) # duplica con zip y convierte el resultado en lista\n",
    "        x3 = np.array(x2).flatten() # crea el arreglo y lo hace uni-dimensional\n",
    "        \"construyendo y\"\n",
    "        y1 = f(x3)\n",
    "        y3 = np.concatenate(([0], y1[:-1])) \n",
    "        p.line(x3, y3)\n",
    "    if isinstance(xiniciales, float):\n",
    "        iteraciones(xiniciales)\n",
    "    else:\n",
    "        for xi in xiniciales:\n",
    "            iteraciones(xi)\n",
    "    show(p)"
   ]
  },
  {
   "cell_type": "code",
   "execution_count": 14,
   "metadata": {},
   "outputs": [
    {
     "data": {
      "text/html": [
       "\n",
       "<div class=\"bk-root\">\n",
       "    <div class=\"bk-plotdiv\" id=\"55d06095-0197-4fd3-adec-c35d6ad9c8a2\"></div>\n",
       "</div>"
      ]
     },
     "metadata": {},
     "output_type": "display_data"
    },
    {
     "data": {
      "application/javascript": [
       "(function(root) {\n",
       "  function embed_document(root) {\n",
       "    \n",
       "  var docs_json = {\"0a2b69c9-6ff9-4d3f-8685-aa525e8c0b0e\":{\"roots\":{\"references\":[{\"attributes\":{\"bottom_units\":\"screen\",\"fill_alpha\":{\"value\":0.5},\"fill_color\":{\"value\":\"lightgrey\"},\"left_units\":\"screen\",\"level\":\"overlay\",\"line_alpha\":{\"value\":1.0},\"line_color\":{\"value\":\"black\"},\"line_dash\":[4,4],\"line_width\":{\"value\":2},\"plot\":null,\"render_mode\":\"css\",\"right_units\":\"screen\",\"top_units\":\"screen\"},\"id\":\"b1e29e6e-903c-495c-9260-479e6891e96e\",\"type\":\"BoxAnnotation\"},{\"attributes\":{},\"id\":\"9154065d-abad-4b4e-829e-d3e6dec27a2e\",\"type\":\"SaveTool\"},{\"attributes\":{},\"id\":\"708e9bab-0ddf-47c8-8ad6-b3ce3d13b455\",\"type\":\"ResetTool\"},{\"attributes\":{\"data_source\":{\"id\":\"b2af1814-4f13-43fe-ad98-6a0075a7696b\",\"type\":\"ColumnDataSource\"},\"glyph\":{\"id\":\"0378b6e9-9007-477e-a623-5b15ef3038f8\",\"type\":\"Line\"},\"hover_glyph\":null,\"muted_glyph\":null,\"nonselection_glyph\":{\"id\":\"0088ab79-060c-4ca0-bed8-540301ef1a08\",\"type\":\"Line\"},\"selection_glyph\":null,\"view\":{\"id\":\"2718bc68-7bbc-4014-9f24-fed709efc9c8\",\"type\":\"CDSView\"}},\"id\":\"88be6b34-caa2-43a8-98d9-4df2050cc7ff\",\"type\":\"GlyphRenderer\"},{\"attributes\":{},\"id\":\"b82e038f-9089-4678-9713-f275da66dfff\",\"type\":\"HelpTool\"},{\"attributes\":{},\"id\":\"c2195a66-7631-4314-9fd8-3a3bc68865b7\",\"type\":\"BasicTickFormatter\"},{\"attributes\":{},\"id\":\"2e64a236-89d0-4afd-9d5b-7d0afd9c71ff\",\"type\":\"BasicTickFormatter\"},{\"attributes\":{\"source\":{\"id\":\"b2af1814-4f13-43fe-ad98-6a0075a7696b\",\"type\":\"ColumnDataSource\"}},\"id\":\"2718bc68-7bbc-4014-9f24-fed709efc9c8\",\"type\":\"CDSView\"},{\"attributes\":{\"active_drag\":\"auto\",\"active_inspect\":\"auto\",\"active_scroll\":\"auto\",\"active_tap\":\"auto\",\"tools\":[{\"id\":\"9acb1f76-1ab5-47b4-a5be-d9497a81e7dc\",\"type\":\"PanTool\"},{\"id\":\"9eb5ff55-2a72-4dc5-b705-c1d12e1724b6\",\"type\":\"WheelZoomTool\"},{\"id\":\"9411fae2-e366-4fc5-9f08-d490e0fbef30\",\"type\":\"BoxZoomTool\"},{\"id\":\"9154065d-abad-4b4e-829e-d3e6dec27a2e\",\"type\":\"SaveTool\"},{\"id\":\"708e9bab-0ddf-47c8-8ad6-b3ce3d13b455\",\"type\":\"ResetTool\"},{\"id\":\"b82e038f-9089-4678-9713-f275da66dfff\",\"type\":\"HelpTool\"}]},\"id\":\"72ff2d2c-7053-44f0-b9db-14af9494bf0a\",\"type\":\"Toolbar\"},{\"attributes\":{\"callback\":null,\"column_names\":[\"x\",\"y\"],\"data\":{\"x\":{\"__ndarray__\":\"AAAAAAAAAAB7FK5H4XqEP3sUrkfhepQ/uB6F61G4nj97FK5H4XqkP5qZmZmZmak/uB6F61G4rj/sUbgeheuxP3sUrkfherQ/CtejcD0Ktz+amZmZmZm5Pylcj8L1KLw/uB6F61G4vj+kcD0K16PAP+xRuB6F68E/MzMzMzMzwz97FK5H4XrEP8P1KFyPwsU/CtejcD0Kxz9SuB6F61HIP5qZmZmZmck/4XoUrkfhyj8pXI/C9SjMP3E9CtejcM0/uB6F61G4zj8AAAAAAADQP6RwPQrXo9A/SOF6FK5H0T/sUbgehevRP4/C9Shcj9I/MzMzMzMz0z/Xo3A9CtfTP3sUrkfhetQ/H4XrUbge1T/D9Shcj8LVP2dmZmZmZtY/CtejcD0K1z+uR+F6FK7XP1K4HoXrUdg/9ihcj8L12D+amZmZmZnZPz4K16NwPdo/4XoUrkfh2j+F61G4HoXbPylcj8L1KNw/zczMzMzM3D9xPQrXo3DdPxWuR+F6FN4/uB6F61G43j9cj8L1KFzfPwAAAAAAAOA/UrgehetR4D+kcD0K16PgP/YoXI/C9eA/SOF6FK5H4T+amZmZmZnhP+xRuB6F6+E/PgrXo3A94j+PwvUoXI/iP+F6FK5H4eI/MzMzMzMz4z+F61G4HoXjP9ejcD0K1+M/KVyPwvUo5D97FK5H4XrkP83MzMzMzOQ/H4XrUbge5T9xPQrXo3DlP8P1KFyPwuU/Fa5H4XoU5j9nZmZmZmbmP7gehetRuOY/CtejcD0K5z9cj8L1KFznP65H4XoUruc/AAAAAAAA6D9SuB6F61HoP6RwPQrXo+g/9ihcj8L16D9I4XoUrkfpP5qZmZmZmek/7FG4HoXr6T8+CtejcD3qP5DC9Shcj+o/4XoUrkfh6j8zMzMzMzPrP4XrUbgehes/16NwPQrX6z8pXI/C9SjsP3sUrkfheuw/zczMzMzM7D8fhetRuB7tP3E9CtejcO0/w/UoXI/C7T8VrkfhehTuP2dmZmZmZu4/uB6F61G47j8K16NwPQrvP1yPwvUoXO8/rkfhehSu7z8=\",\"dtype\":\"float64\",\"shape\":[100]},\"y\":{\"__ndarray__\":\"AAAAAAAAAAB7FK5H4XqEP3sUrkfhepQ/uB6F61G4nj97FK5H4XqkP5qZmZmZmak/uB6F61G4rj/sUbgeheuxP3sUrkfherQ/CtejcD0Ktz+amZmZmZm5Pylcj8L1KLw/uB6F61G4vj+kcD0K16PAP+xRuB6F68E/MzMzMzMzwz97FK5H4XrEP8P1KFyPwsU/CtejcD0Kxz9SuB6F61HIP5qZmZmZmck/4XoUrkfhyj8pXI/C9SjMP3E9CtejcM0/uB6F61G4zj8AAAAAAADQP6RwPQrXo9A/SOF6FK5H0T/sUbgehevRP4/C9Shcj9I/MzMzMzMz0z/Xo3A9CtfTP3sUrkfhetQ/H4XrUbge1T/D9Shcj8LVP2dmZmZmZtY/CtejcD0K1z+uR+F6FK7XP1K4HoXrUdg/9ihcj8L12D+amZmZmZnZPz4K16NwPdo/4XoUrkfh2j+F61G4HoXbPylcj8L1KNw/zczMzMzM3D9xPQrXo3DdPxWuR+F6FN4/uB6F61G43j9cj8L1KFzfPwAAAAAAAOA/UrgehetR4D+kcD0K16PgP/YoXI/C9eA/SOF6FK5H4T+amZmZmZnhP+xRuB6F6+E/PgrXo3A94j+PwvUoXI/iP+F6FK5H4eI/MzMzMzMz4z+F61G4HoXjP9ejcD0K1+M/KVyPwvUo5D97FK5H4XrkP83MzMzMzOQ/H4XrUbge5T9xPQrXo3DlP8P1KFyPwuU/Fa5H4XoU5j9nZmZmZmbmP7gehetRuOY/CtejcD0K5z9cj8L1KFznP65H4XoUruc/AAAAAAAA6D9SuB6F61HoP6RwPQrXo+g/9ihcj8L16D9I4XoUrkfpP5qZmZmZmek/7FG4HoXr6T8+CtejcD3qP5DC9Shcj+o/4XoUrkfh6j8zMzMzMzPrP4XrUbgehes/16NwPQrX6z8pXI/C9SjsP3sUrkfheuw/zczMzMzM7D8fhetRuB7tP3E9CtejcO0/w/UoXI/C7T8VrkfhehTuP2dmZmZmZu4/uB6F61G47j8K16NwPQrvP1yPwvUoXO8/rkfhehSu7z8=\",\"dtype\":\"float64\",\"shape\":[100]}}},\"id\":\"b2af1814-4f13-43fe-ad98-6a0075a7696b\",\"type\":\"ColumnDataSource\"},{\"attributes\":{\"data_source\":{\"id\":\"96d8a054-9e88-4312-a2d1-f244685ddd93\",\"type\":\"ColumnDataSource\"},\"glyph\":{\"id\":\"6d5f6d7f-f69f-4cba-9360-12a2fbddc643\",\"type\":\"Line\"},\"hover_glyph\":null,\"muted_glyph\":null,\"nonselection_glyph\":{\"id\":\"efebc474-8712-4493-98a3-5e84e9d155ae\",\"type\":\"Line\"},\"selection_glyph\":null,\"view\":{\"id\":\"7cacf811-f3f9-401d-9438-0a158c4798c2\",\"type\":\"CDSView\"}},\"id\":\"85b5d93e-569c-448d-ac12-8a1efb2bdbc0\",\"type\":\"GlyphRenderer\"},{\"attributes\":{\"below\":[{\"id\":\"1594b59c-6a40-4c3a-8914-33e6dbc1e72f\",\"type\":\"LinearAxis\"}],\"left\":[{\"id\":\"c8ead807-d5d2-4de0-be19-e258a53d606b\",\"type\":\"LinearAxis\"}],\"renderers\":[{\"id\":\"1594b59c-6a40-4c3a-8914-33e6dbc1e72f\",\"type\":\"LinearAxis\"},{\"id\":\"2308d2d8-c29f-4676-b716-706879c1bde5\",\"type\":\"Grid\"},{\"id\":\"c8ead807-d5d2-4de0-be19-e258a53d606b\",\"type\":\"LinearAxis\"},{\"id\":\"ad00db5f-9ad4-4007-b525-28e7ee18995d\",\"type\":\"Grid\"},{\"id\":\"b1e29e6e-903c-495c-9260-479e6891e96e\",\"type\":\"BoxAnnotation\"},{\"id\":\"85b5d93e-569c-448d-ac12-8a1efb2bdbc0\",\"type\":\"GlyphRenderer\"},{\"id\":\"88be6b34-caa2-43a8-98d9-4df2050cc7ff\",\"type\":\"GlyphRenderer\"},{\"id\":\"10e7f110-8c1b-44c5-b089-1bb9041b850f\",\"type\":\"GlyphRenderer\"}],\"title\":{\"id\":\"49356e06-a82f-49ab-900c-bfe1be98de39\",\"type\":\"Title\"},\"toolbar\":{\"id\":\"72ff2d2c-7053-44f0-b9db-14af9494bf0a\",\"type\":\"Toolbar\"},\"x_range\":{\"id\":\"fe5a3dbe-d7d3-4fb0-9b8c-08862f298fb8\",\"type\":\"DataRange1d\"},\"x_scale\":{\"id\":\"34063193-3332-41a9-94ab-803eec1c8c83\",\"type\":\"LinearScale\"},\"y_range\":{\"id\":\"efc3a50f-d254-448f-bf03-6079860dcf2d\",\"type\":\"DataRange1d\"},\"y_scale\":{\"id\":\"5948e9e0-171b-4fc1-ac9f-8d4c9260fa2a\",\"type\":\"LinearScale\"}},\"id\":\"122e5852-92d7-4f94-9d0e-1cba9cc1c1b0\",\"subtype\":\"Figure\",\"type\":\"Plot\"},{\"attributes\":{\"callback\":null},\"id\":\"fe5a3dbe-d7d3-4fb0-9b8c-08862f298fb8\",\"type\":\"DataRange1d\"},{\"attributes\":{\"formatter\":{\"id\":\"c2195a66-7631-4314-9fd8-3a3bc68865b7\",\"type\":\"BasicTickFormatter\"},\"plot\":{\"id\":\"122e5852-92d7-4f94-9d0e-1cba9cc1c1b0\",\"subtype\":\"Figure\",\"type\":\"Plot\"},\"ticker\":{\"id\":\"0cdda312-7a66-4907-8410-1cac7564c366\",\"type\":\"BasicTicker\"}},\"id\":\"c8ead807-d5d2-4de0-be19-e258a53d606b\",\"type\":\"LinearAxis\"},{\"attributes\":{\"line_color\":\"#1f77b4\",\"x\":{\"field\":\"x\"},\"y\":{\"field\":\"y\"}},\"id\":\"1647c7d0-14f4-457d-8555-0626b36df812\",\"type\":\"Line\"},{\"attributes\":{\"callback\":null},\"id\":\"efc3a50f-d254-448f-bf03-6079860dcf2d\",\"type\":\"DataRange1d\"},{\"attributes\":{\"data_source\":{\"id\":\"308daf25-0209-4ef3-9f0b-2d7b06890350\",\"type\":\"ColumnDataSource\"},\"glyph\":{\"id\":\"1647c7d0-14f4-457d-8555-0626b36df812\",\"type\":\"Line\"},\"hover_glyph\":null,\"muted_glyph\":null,\"nonselection_glyph\":{\"id\":\"bf02d73b-eb85-4b61-a878-d84b4b58ad58\",\"type\":\"Line\"},\"selection_glyph\":null,\"view\":{\"id\":\"ff9c16bc-361f-4c82-8426-dbef5ca07061\",\"type\":\"CDSView\"}},\"id\":\"10e7f110-8c1b-44c5-b089-1bb9041b850f\",\"type\":\"GlyphRenderer\"},{\"attributes\":{},\"id\":\"34063193-3332-41a9-94ab-803eec1c8c83\",\"type\":\"LinearScale\"},{\"attributes\":{},\"id\":\"5948e9e0-171b-4fc1-ac9f-8d4c9260fa2a\",\"type\":\"LinearScale\"},{\"attributes\":{\"plot\":{\"id\":\"122e5852-92d7-4f94-9d0e-1cba9cc1c1b0\",\"subtype\":\"Figure\",\"type\":\"Plot\"},\"ticker\":{\"id\":\"839cfb76-be21-4d59-a966-ddecfe5e40f6\",\"type\":\"BasicTicker\"}},\"id\":\"2308d2d8-c29f-4676-b716-706879c1bde5\",\"type\":\"Grid\"},{\"attributes\":{\"callback\":null,\"column_names\":[\"x\",\"y\"],\"data\":{\"x\":{\"__ndarray__\":\"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\",\"dtype\":\"float64\",\"shape\":[202]},\"y\":{\"__ndarray__\":\"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\",\"dtype\":\"float64\",\"shape\":[202]}}},\"id\":\"308daf25-0209-4ef3-9f0b-2d7b06890350\",\"type\":\"ColumnDataSource\"},{\"attributes\":{\"formatter\":{\"id\":\"2e64a236-89d0-4afd-9d5b-7d0afd9c71ff\",\"type\":\"BasicTickFormatter\"},\"plot\":{\"id\":\"122e5852-92d7-4f94-9d0e-1cba9cc1c1b0\",\"subtype\":\"Figure\",\"type\":\"Plot\"},\"ticker\":{\"id\":\"839cfb76-be21-4d59-a966-ddecfe5e40f6\",\"type\":\"BasicTicker\"}},\"id\":\"1594b59c-6a40-4c3a-8914-33e6dbc1e72f\",\"type\":\"LinearAxis\"},{\"attributes\":{\"source\":{\"id\":\"308daf25-0209-4ef3-9f0b-2d7b06890350\",\"type\":\"ColumnDataSource\"}},\"id\":\"ff9c16bc-361f-4c82-8426-dbef5ca07061\",\"type\":\"CDSView\"},{\"attributes\":{},\"id\":\"839cfb76-be21-4d59-a966-ddecfe5e40f6\",\"type\":\"BasicTicker\"},{\"attributes\":{\"x\":{\"field\":\"x\"},\"y\":{\"field\":\"y\"}},\"id\":\"6d5f6d7f-f69f-4cba-9360-12a2fbddc643\",\"type\":\"Line\"},{\"attributes\":{\"plot\":null,\"text\":\"\"},\"id\":\"49356e06-a82f-49ab-900c-bfe1be98de39\",\"type\":\"Title\"},{\"attributes\":{},\"id\":\"0cdda312-7a66-4907-8410-1cac7564c366\",\"type\":\"BasicTicker\"},{\"attributes\":{\"line_alpha\":0.1,\"line_color\":\"#1f77b4\",\"x\":{\"field\":\"x\"},\"y\":{\"field\":\"y\"}},\"id\":\"bf02d73b-eb85-4b61-a878-d84b4b58ad58\",\"type\":\"Line\"},{\"attributes\":{\"callback\":null,\"column_names\":[\"x\",\"y\"],\"data\":{\"x\":{\"__ndarray__\":\"AAAAAAAAAAB7FK5H4XqEP3sUrkfhepQ/uB6F61G4nj97FK5H4XqkP5qZmZmZmak/uB6F61G4rj/sUbgeheuxP3sUrkfherQ/CtejcD0Ktz+amZmZmZm5Pylcj8L1KLw/uB6F61G4vj+kcD0K16PAP+xRuB6F68E/MzMzMzMzwz97FK5H4XrEP8P1KFyPwsU/CtejcD0Kxz9SuB6F61HIP5qZmZmZmck/4XoUrkfhyj8pXI/C9SjMP3E9CtejcM0/uB6F61G4zj8AAAAAAADQP6RwPQrXo9A/SOF6FK5H0T/sUbgehevRP4/C9Shcj9I/MzMzMzMz0z/Xo3A9CtfTP3sUrkfhetQ/H4XrUbge1T/D9Shcj8LVP2dmZmZmZtY/CtejcD0K1z+uR+F6FK7XP1K4HoXrUdg/9ihcj8L12D+amZmZmZnZPz4K16NwPdo/4XoUrkfh2j+F61G4HoXbPylcj8L1KNw/zczMzMzM3D9xPQrXo3DdPxWuR+F6FN4/uB6F61G43j9cj8L1KFzfPwAAAAAAAOA/UrgehetR4D+kcD0K16PgP/YoXI/C9eA/SOF6FK5H4T+amZmZmZnhP+xRuB6F6+E/PgrXo3A94j+PwvUoXI/iP+F6FK5H4eI/MzMzMzMz4z+F61G4HoXjP9ejcD0K1+M/KVyPwvUo5D97FK5H4XrkP83MzMzMzOQ/H4XrUbge5T9xPQrXo3DlP8P1KFyPwuU/Fa5H4XoU5j9nZmZmZmbmP7gehetRuOY/CtejcD0K5z9cj8L1KFznP65H4XoUruc/AAAAAAAA6D9SuB6F61HoP6RwPQrXo+g/9ihcj8L16D9I4XoUrkfpP5qZmZmZmek/7FG4HoXr6T8+CtejcD3qP5DC9Shcj+o/4XoUrkfh6j8zMzMzMzPrP4XrUbgehes/16NwPQrX6z8pXI/C9SjsP3sUrkfheuw/zczMzMzM7D8fhetRuB7tP3E9CtejcO0/w/UoXI/C7T8VrkfhehTuP2dmZmZmZu4/uB6F61G47j8K16NwPQrvP1yPwvUoXO8/rkfhehSu7z8=\",\"dtype\":\"float64\",\"shape\":[100]},\"y\":{\"__ndarray__\":\"AAAAAAAAAAD129eBc0akP26jAbwFErQ/WyBB8WPMvT9hMlUwKqnDP1K4HoXrUcg//iH99nXgzD+1N/jCZKrQP0hQ/Bhz19I/utqK/WX31D8L16NwPQrXPzlFR3L5D9k/RiV1ApoI2z8ydy0hH/TcP/w6cM6I0t4/UrgehetR4D8VjErqBDThP8iYu5aQD+I/at5xio7k4j/7XG3F/rLjP3wUrkfheuQ/6gQ0ETY85T9JLv8h/fblP5eQD3o2q+Y/1CtlGeJY5z8AAAAAAADoPxwN4C2QoOg/JlMFo5I66T8g0m9fB87pPwiKH2PuWuo/4XoUrkfh6j+opE5AE2HrP18HzhlR2us/BaOSOgFN7D+ad5yiI7nsPx6F61G4Hu0/kst/SL997T/1SlmGONbtP0cDeAskKO4/iPTb14Fz7j+4HoXrUbjuP9iBc0aU9u4/5x2n6Egu7z/l8h/Sb1/vP9MA3gIJiu8/r0fhehSu7z97xyk6ksvvPzWAt0CC4u8/3nGKjuTy7z94nKIjufzvPwAAAAAAAPA/eJyiI7n87z/ecYqO5PLvPzSAt0CC4u8/escpOpLL7z+uR+F6FK7vP9EA3gIJiu8/5PIf0m9f7z/nHafoSC7vP9iBc0aU9u4/uB6F61G47j+I9NvXgXPuP0cDeAskKO4/9UpZhjjW7T+Sy39Iv33tPx6F61G4Hu0/mnecoiO57D8Fo5I6AU3sP18HzhlR2us/qKROQBNh6z/gehSuR+HqPwqKH2PuWuo/INJvXwfO6T8mUwWjkjrpPxwN4C2QoOg/AAAAAAAA6D/UK2UZ4ljnP5aQD3o2q+Y/SC7/If325T/qBDQRNjzlP3oUrkfheuQ/+Vxtxf6y4z9o3nGKjuTiP8aYu5aQD+I/FoxK6gQ04T9SuB6F61HgP/w6cM6I0t4/MnctIR/03D9GJXUCmgjbPzhFR3L5D9k/CdejcD0K1z+42or9ZffUP0ZQ/Bhz19I/sjf4wmSq0D/4If32deDMP0m4HoXrUcg/ZjJVMCqpwz9jIEHxY8y9P3OjAbwFErQ/+tvXgXNGpD8=\",\"dtype\":\"float64\",\"shape\":[100]}}},\"id\":\"96d8a054-9e88-4312-a2d1-f244685ddd93\",\"type\":\"ColumnDataSource\"},{\"attributes\":{\"dimension\":1,\"plot\":{\"id\":\"122e5852-92d7-4f94-9d0e-1cba9cc1c1b0\",\"subtype\":\"Figure\",\"type\":\"Plot\"},\"ticker\":{\"id\":\"0cdda312-7a66-4907-8410-1cac7564c366\",\"type\":\"BasicTicker\"}},\"id\":\"ad00db5f-9ad4-4007-b525-28e7ee18995d\",\"type\":\"Grid\"},{\"attributes\":{\"line_color\":\"red\",\"x\":{\"field\":\"x\"},\"y\":{\"field\":\"y\"}},\"id\":\"0378b6e9-9007-477e-a623-5b15ef3038f8\",\"type\":\"Line\"},{\"attributes\":{\"line_alpha\":0.1,\"line_color\":\"#1f77b4\",\"x\":{\"field\":\"x\"},\"y\":{\"field\":\"y\"}},\"id\":\"efebc474-8712-4493-98a3-5e84e9d155ae\",\"type\":\"Line\"},{\"attributes\":{\"source\":{\"id\":\"96d8a054-9e88-4312-a2d1-f244685ddd93\",\"type\":\"ColumnDataSource\"}},\"id\":\"7cacf811-f3f9-401d-9438-0a158c4798c2\",\"type\":\"CDSView\"},{\"attributes\":{\"line_alpha\":0.1,\"line_color\":\"#1f77b4\",\"x\":{\"field\":\"x\"},\"y\":{\"field\":\"y\"}},\"id\":\"0088ab79-060c-4ca0-bed8-540301ef1a08\",\"type\":\"Line\"},{\"attributes\":{},\"id\":\"9acb1f76-1ab5-47b4-a5be-d9497a81e7dc\",\"type\":\"PanTool\"},{\"attributes\":{\"overlay\":{\"id\":\"b1e29e6e-903c-495c-9260-479e6891e96e\",\"type\":\"BoxAnnotation\"}},\"id\":\"9411fae2-e366-4fc5-9f08-d490e0fbef30\",\"type\":\"BoxZoomTool\"},{\"attributes\":{},\"id\":\"9eb5ff55-2a72-4dc5-b705-c1d12e1724b6\",\"type\":\"WheelZoomTool\"}],\"root_ids\":[\"122e5852-92d7-4f94-9d0e-1cba9cc1c1b0\"]},\"title\":\"Bokeh Application\",\"version\":\"0.12.14\"}};\n",
       "  var render_items = [{\"docid\":\"0a2b69c9-6ff9-4d3f-8685-aa525e8c0b0e\",\"elementid\":\"55d06095-0197-4fd3-adec-c35d6ad9c8a2\",\"modelid\":\"122e5852-92d7-4f94-9d0e-1cba9cc1c1b0\"}];\n",
       "  root.Bokeh.embed.embed_items_notebook(docs_json, render_items);\n",
       "\n",
       "  }\n",
       "  if (root.Bokeh !== undefined) {\n",
       "    embed_document(root);\n",
       "  } else {\n",
       "    var attempts = 0;\n",
       "    var timer = setInterval(function(root) {\n",
       "      if (root.Bokeh !== undefined) {\n",
       "        embed_document(root);\n",
       "        clearInterval(timer);\n",
       "      }\n",
       "      attempts++;\n",
       "      if (attempts > 100) {\n",
       "        console.log(\"Bokeh: ERROR: Unable to run BokehJS code because BokehJS library is missing\")\n",
       "        clearInterval(timer);\n",
       "      }\n",
       "    }, 10, root)\n",
       "  }\n",
       "})(window);"
      ],
      "application/vnd.bokehjs_exec.v0+json": ""
     },
     "metadata": {
      "application/vnd.bokehjs_exec.v0+json": {
       "id": "122e5852-92d7-4f94-9d0e-1cba9cc1c1b0"
      }
     },
     "output_type": "display_data"
    }
   ],
   "source": [
    "def logística(x, r=4):\n",
    "    return r * x*(1-x)\n",
    "\n",
    "x = np.arange(0, 1, .01)\n",
    "\n",
    "telaraña(logística, x, .6, n=200)"
   ]
  },
  {
   "cell_type": "code",
   "execution_count": 15,
   "metadata": {
    "collapsed": true
   },
   "outputs": [
    {
     "data": {
      "text/html": [
       "\n",
       "<div class=\"bk-root\">\n",
       "    <div class=\"bk-plotdiv\" id=\"2cac6f9f-d693-4392-8072-138d8d6f0c77\"></div>\n",
       "</div>"
      ]
     },
     "metadata": {},
     "output_type": "display_data"
    },
    {
     "data": {
      "application/javascript": [
       "(function(root) {\n",
       "  function embed_document(root) {\n",
       "    \n",
       "  var docs_json = {\"5eba746b-aa74-4095-8464-d9bb787f6e1d\":{\"roots\":{\"references\":[{\"attributes\":{},\"id\":\"970617bc-ab37-48f3-b430-311e77498fff\",\"type\":\"SaveTool\"},{\"attributes\":{},\"id\":\"1b7bdd44-de42-43ae-b55b-a43d45343733\",\"type\":\"LinearScale\"},{\"attributes\":{},\"id\":\"3d35ac01-21b1-4a6b-b1d2-a071dd528dc0\",\"type\":\"ResetTool\"},{\"attributes\":{\"below\":[{\"id\":\"6a249d80-4f83-4478-9ef5-797f2ff4d7ba\",\"type\":\"LinearAxis\"}],\"left\":[{\"id\":\"ea07f10f-e9b4-4199-80ce-429209215486\",\"type\":\"LinearAxis\"}],\"renderers\":[{\"id\":\"6a249d80-4f83-4478-9ef5-797f2ff4d7ba\",\"type\":\"LinearAxis\"},{\"id\":\"a6a11565-7843-4b11-8a67-b5ad890e967c\",\"type\":\"Grid\"},{\"id\":\"ea07f10f-e9b4-4199-80ce-429209215486\",\"type\":\"LinearAxis\"},{\"id\":\"41dc434a-5309-4e29-b91b-9bfa65ecd96a\",\"type\":\"Grid\"},{\"id\":\"ae8b8a89-ae2d-4df2-94c7-74940dd78815\",\"type\":\"BoxAnnotation\"},{\"id\":\"f12d0821-ec6f-457a-857d-e2828cc58f75\",\"type\":\"GlyphRenderer\"},{\"id\":\"ae78cd1e-8e3e-42b5-87be-853e368c82e8\",\"type\":\"GlyphRenderer\"},{\"id\":\"4668a633-a0e8-4846-89bb-075a3786b1f3\",\"type\":\"GlyphRenderer\"},{\"id\":\"677c59aa-c5b6-4bcc-98b8-44c084508d89\",\"type\":\"GlyphRenderer\"}],\"title\":{\"id\":\"95b8859e-8b7e-4700-855a-00d67577a4b8\",\"type\":\"Title\"},\"toolbar\":{\"id\":\"ad129adf-2d7f-4bba-82fa-053615df5b59\",\"type\":\"Toolbar\"},\"x_range\":{\"id\":\"f9dcf552-6818-4367-9b9a-4fe48b30612e\",\"type\":\"DataRange1d\"},\"x_scale\":{\"id\":\"1b7bdd44-de42-43ae-b55b-a43d45343733\",\"type\":\"LinearScale\"},\"y_range\":{\"id\":\"3b7f6892-5c29-433c-9bd1-a45f86f62fd7\",\"type\":\"DataRange1d\"},\"y_scale\":{\"id\":\"ab9ee8a6-9dc1-4494-801d-2b3dce62b531\",\"type\":\"LinearScale\"}},\"id\":\"ff14de90-26db-4a69-b618-d8a341fe65de\",\"subtype\":\"Figure\",\"type\":\"Plot\"},{\"attributes\":{},\"id\":\"0ade4d33-53d5-4609-b179-761436fa9073\",\"type\":\"HelpTool\"},{\"attributes\":{\"data_source\":{\"id\":\"8e992c76-507c-4fc5-8e98-604050955dc2\",\"type\":\"ColumnDataSource\"},\"glyph\":{\"id\":\"5476f19d-8765-4062-acd0-3e0f44f65149\",\"type\":\"Line\"},\"hover_glyph\":null,\"muted_glyph\":null,\"nonselection_glyph\":{\"id\":\"f042aca4-0b93-4753-849e-17f81e594171\",\"type\":\"Line\"},\"selection_glyph\":null,\"view\":{\"id\":\"d3e63e84-aad9-4d6d-8feb-7c8a1dfe5b66\",\"type\":\"CDSView\"}},\"id\":\"4668a633-a0e8-4846-89bb-075a3786b1f3\",\"type\":\"GlyphRenderer\"},{\"attributes\":{\"line_color\":\"red\",\"x\":{\"field\":\"x\"},\"y\":{\"field\":\"y\"}},\"id\":\"31733496-91ed-4ce1-abc6-98c0fb002a0d\",\"type\":\"Line\"},{\"attributes\":{\"line_color\":\"#1f77b4\",\"x\":{\"field\":\"x\"},\"y\":{\"field\":\"y\"}},\"id\":\"2b37972b-becb-45ce-b3f4-fca112eecd33\",\"type\":\"Line\"},{\"attributes\":{\"callback\":null,\"column_names\":[\"x\",\"y\"],\"data\":{\"x\":{\"__ndarray__\":\"AAAAAAAA8L8AAAAAAADwvwAAAAAAAOC/AAAAAAAA4L8AAAAAAADQvwAAAAAAANC/AAAAAAAAwL8AAAAAAADAvwAAAAAAALC/AAAAAAAAsL8AAAAAAACgvwAAAAAAAKC/AAAAAAAAkL8AAAAAAACQvwAAAAAAAIC/AAAAAAAAgL8AAAAAAABwvwAAAAAAAHC/AAAAAAAAYL8AAAAAAABgvwAAAAAAAFC/AAAAAAAAUL8=\",\"dtype\":\"float64\",\"shape\":[22]},\"y\":{\"__ndarray__\":\"AAAAAAAAAAAAAAAAAADgvwAAAAAAAOC/AAAAAAAA0L8AAAAAAADQvwAAAAAAAMC/AAAAAAAAwL8AAAAAAACwvwAAAAAAALC/AAAAAAAAoL8AAAAAAACgvwAAAAAAAJC/AAAAAAAAkL8AAAAAAACAvwAAAAAAAIC/AAAAAAAAcL8AAAAAAABwvwAAAAAAAGC/AAAAAAAAYL8AAAAAAABQvwAAAAAAAFC/AAAAAAAAQL8=\",\"dtype\":\"float64\",\"shape\":[22]}}},\"id\":\"8e992c76-507c-4fc5-8e98-604050955dc2\",\"type\":\"ColumnDataSource\"},{\"attributes\":{\"data_source\":{\"id\":\"e6c250ca-82bd-4a72-86e9-3030c77b0823\",\"type\":\"ColumnDataSource\"},\"glyph\":{\"id\":\"31733496-91ed-4ce1-abc6-98c0fb002a0d\",\"type\":\"Line\"},\"hover_glyph\":null,\"muted_glyph\":null,\"nonselection_glyph\":{\"id\":\"7bae6cff-6e8c-485b-9b2a-663e266513ec\",\"type\":\"Line\"},\"selection_glyph\":null,\"view\":{\"id\":\"9d18709b-e7bf-4c72-9275-b697903f0198\",\"type\":\"CDSView\"}},\"id\":\"ae78cd1e-8e3e-42b5-87be-853e368c82e8\",\"type\":\"GlyphRenderer\"},{\"attributes\":{\"line_alpha\":0.1,\"line_color\":\"#1f77b4\",\"x\":{\"field\":\"x\"},\"y\":{\"field\":\"y\"}},\"id\":\"f042aca4-0b93-4753-849e-17f81e594171\",\"type\":\"Line\"},{\"attributes\":{\"callback\":null,\"column_names\":[\"x\",\"y\"],\"data\":{\"x\":{\"__ndarray__\":\"AAAAAAAA8D8AAAAAAADwPwAAAAAAAOA/AAAAAAAA4D8AAAAAAADQPwAAAAAAANA/AAAAAAAAwD8AAAAAAADAPwAAAAAAALA/AAAAAAAAsD8AAAAAAACgPwAAAAAAAKA/AAAAAAAAkD8AAAAAAACQPwAAAAAAAIA/AAAAAAAAgD8AAAAAAABwPwAAAAAAAHA/AAAAAAAAYD8AAAAAAABgPwAAAAAAAFA/AAAAAAAAUD8=\",\"dtype\":\"float64\",\"shape\":[22]},\"y\":{\"__ndarray__\":\"AAAAAAAAAAAAAAAAAADgPwAAAAAAAOA/AAAAAAAA0D8AAAAAAADQPwAAAAAAAMA/AAAAAAAAwD8AAAAAAACwPwAAAAAAALA/AAAAAAAAoD8AAAAAAACgPwAAAAAAAJA/AAAAAAAAkD8AAAAAAACAPwAAAAAAAIA/AAAAAAAAcD8AAAAAAABwPwAAAAAAAGA/AAAAAAAAYD8AAAAAAABQPwAAAAAAAFA/AAAAAAAAQD8=\",\"dtype\":\"float64\",\"shape\":[22]}}},\"id\":\"05e9af59-167e-4922-af08-46ac2d06d780\",\"type\":\"ColumnDataSource\"},{\"attributes\":{\"line_alpha\":0.1,\"line_color\":\"#1f77b4\",\"x\":{\"field\":\"x\"},\"y\":{\"field\":\"y\"}},\"id\":\"9c6746a7-bb08-4518-b81a-3bb6774727e7\",\"type\":\"Line\"},{\"attributes\":{\"active_drag\":\"auto\",\"active_inspect\":\"auto\",\"active_scroll\":\"auto\",\"active_tap\":\"auto\",\"tools\":[{\"id\":\"f2504514-c261-4e25-a0f2-69ebad5c3637\",\"type\":\"PanTool\"},{\"id\":\"678d7196-c8f6-443f-908a-a5fad9797cb4\",\"type\":\"WheelZoomTool\"},{\"id\":\"ae4ed5f8-801f-4bf9-841d-147abe468176\",\"type\":\"BoxZoomTool\"},{\"id\":\"970617bc-ab37-48f3-b430-311e77498fff\",\"type\":\"SaveTool\"},{\"id\":\"3d35ac01-21b1-4a6b-b1d2-a071dd528dc0\",\"type\":\"ResetTool\"},{\"id\":\"0ade4d33-53d5-4609-b179-761436fa9073\",\"type\":\"HelpTool\"}]},\"id\":\"ad129adf-2d7f-4bba-82fa-053615df5b59\",\"type\":\"Toolbar\"},{\"attributes\":{\"line_alpha\":0.1,\"line_color\":\"#1f77b4\",\"x\":{\"field\":\"x\"},\"y\":{\"field\":\"y\"}},\"id\":\"7bae6cff-6e8c-485b-9b2a-663e266513ec\",\"type\":\"Line\"},{\"attributes\":{\"x\":{\"field\":\"x\"},\"y\":{\"field\":\"y\"}},\"id\":\"f9e9c189-d420-4640-9133-f169122725b0\",\"type\":\"Line\"},{\"attributes\":{\"source\":{\"id\":\"8e992c76-507c-4fc5-8e98-604050955dc2\",\"type\":\"ColumnDataSource\"}},\"id\":\"d3e63e84-aad9-4d6d-8feb-7c8a1dfe5b66\",\"type\":\"CDSView\"},{\"attributes\":{\"data_source\":{\"id\":\"d5990d64-e599-4214-99d4-11605ed447bc\",\"type\":\"ColumnDataSource\"},\"glyph\":{\"id\":\"f9e9c189-d420-4640-9133-f169122725b0\",\"type\":\"Line\"},\"hover_glyph\":null,\"muted_glyph\":null,\"nonselection_glyph\":{\"id\":\"f628e2e9-5eb3-4206-8359-600daee5481d\",\"type\":\"Line\"},\"selection_glyph\":null,\"view\":{\"id\":\"8ccf1a38-be28-4342-b2ff-febea0c32f4e\",\"type\":\"CDSView\"}},\"id\":\"f12d0821-ec6f-457a-857d-e2828cc58f75\",\"type\":\"GlyphRenderer\"},{\"attributes\":{},\"id\":\"124dd5db-bd8a-4809-a876-fe1da0ca9c00\",\"type\":\"BasicTickFormatter\"},{\"attributes\":{\"callback\":null},\"id\":\"f9dcf552-6818-4367-9b9a-4fe48b30612e\",\"type\":\"DataRange1d\"},{\"attributes\":{\"source\":{\"id\":\"e6c250ca-82bd-4a72-86e9-3030c77b0823\",\"type\":\"ColumnDataSource\"}},\"id\":\"9d18709b-e7bf-4c72-9275-b697903f0198\",\"type\":\"CDSView\"},{\"attributes\":{\"line_color\":\"#1f77b4\",\"x\":{\"field\":\"x\"},\"y\":{\"field\":\"y\"}},\"id\":\"5476f19d-8765-4062-acd0-3e0f44f65149\",\"type\":\"Line\"},{\"attributes\":{\"source\":{\"id\":\"05e9af59-167e-4922-af08-46ac2d06d780\",\"type\":\"ColumnDataSource\"}},\"id\":\"7d403dea-9d07-4a6f-bad1-90d0717c9a7a\",\"type\":\"CDSView\"},{\"attributes\":{\"callback\":null},\"id\":\"3b7f6892-5c29-433c-9bd1-a45f86f62fd7\",\"type\":\"DataRange1d\"},{\"attributes\":{\"source\":{\"id\":\"d5990d64-e599-4214-99d4-11605ed447bc\",\"type\":\"ColumnDataSource\"}},\"id\":\"8ccf1a38-be28-4342-b2ff-febea0c32f4e\",\"type\":\"CDSView\"},{\"attributes\":{},\"id\":\"ab9ee8a6-9dc1-4494-801d-2b3dce62b531\",\"type\":\"LinearScale\"},{\"attributes\":{},\"id\":\"f2504514-c261-4e25-a0f2-69ebad5c3637\",\"type\":\"PanTool\"},{\"attributes\":{\"callback\":null,\"column_names\":[\"x\",\"y\"],\"data\":{\"x\":{\"__ndarray__\":\"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\",\"dtype\":\"float64\",\"shape\":[200]},\"y\":{\"__ndarray__\":\"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\",\"dtype\":\"float64\",\"shape\":[200]}}},\"id\":\"d5990d64-e599-4214-99d4-11605ed447bc\",\"type\":\"ColumnDataSource\"},{\"attributes\":{\"bottom_units\":\"screen\",\"fill_alpha\":{\"value\":0.5},\"fill_color\":{\"value\":\"lightgrey\"},\"left_units\":\"screen\",\"level\":\"overlay\",\"line_alpha\":{\"value\":1.0},\"line_color\":{\"value\":\"black\"},\"line_dash\":[4,4],\"line_width\":{\"value\":2},\"plot\":null,\"render_mode\":\"css\",\"right_units\":\"screen\",\"top_units\":\"screen\"},\"id\":\"ae8b8a89-ae2d-4df2-94c7-74940dd78815\",\"type\":\"BoxAnnotation\"},{\"attributes\":{\"plot\":{\"id\":\"ff14de90-26db-4a69-b618-d8a341fe65de\",\"subtype\":\"Figure\",\"type\":\"Plot\"},\"ticker\":{\"id\":\"660602e9-94a0-4b34-a570-0c89b76264fd\",\"type\":\"BasicTicker\"}},\"id\":\"a6a11565-7843-4b11-8a67-b5ad890e967c\",\"type\":\"Grid\"},{\"attributes\":{\"formatter\":{\"id\":\"124dd5db-bd8a-4809-a876-fe1da0ca9c00\",\"type\":\"BasicTickFormatter\"},\"plot\":{\"id\":\"ff14de90-26db-4a69-b618-d8a341fe65de\",\"subtype\":\"Figure\",\"type\":\"Plot\"},\"ticker\":{\"id\":\"660602e9-94a0-4b34-a570-0c89b76264fd\",\"type\":\"BasicTicker\"}},\"id\":\"6a249d80-4f83-4478-9ef5-797f2ff4d7ba\",\"type\":\"LinearAxis\"},{\"attributes\":{\"dimension\":1,\"plot\":{\"id\":\"ff14de90-26db-4a69-b618-d8a341fe65de\",\"subtype\":\"Figure\",\"type\":\"Plot\"},\"ticker\":{\"id\":\"989a50dc-475a-4a75-8447-e785068cf292\",\"type\":\"BasicTicker\"}},\"id\":\"41dc434a-5309-4e29-b91b-9bfa65ecd96a\",\"type\":\"Grid\"},{\"attributes\":{\"callback\":null,\"column_names\":[\"x\",\"y\"],\"data\":{\"x\":{\"__ndarray__\":\"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\",\"dtype\":\"float64\",\"shape\":[200]},\"y\":{\"__ndarray__\":\"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\",\"dtype\":\"float64\",\"shape\":[200]}}},\"id\":\"e6c250ca-82bd-4a72-86e9-3030c77b0823\",\"type\":\"ColumnDataSource\"},{\"attributes\":{\"line_alpha\":0.1,\"line_color\":\"#1f77b4\",\"x\":{\"field\":\"x\"},\"y\":{\"field\":\"y\"}},\"id\":\"f628e2e9-5eb3-4206-8359-600daee5481d\",\"type\":\"Line\"},{\"attributes\":{},\"id\":\"660602e9-94a0-4b34-a570-0c89b76264fd\",\"type\":\"BasicTicker\"},{\"attributes\":{},\"id\":\"989a50dc-475a-4a75-8447-e785068cf292\",\"type\":\"BasicTicker\"},{\"attributes\":{\"formatter\":{\"id\":\"f43ae1ab-b625-43d3-bb06-86311880ffe5\",\"type\":\"BasicTickFormatter\"},\"plot\":{\"id\":\"ff14de90-26db-4a69-b618-d8a341fe65de\",\"subtype\":\"Figure\",\"type\":\"Plot\"},\"ticker\":{\"id\":\"989a50dc-475a-4a75-8447-e785068cf292\",\"type\":\"BasicTicker\"}},\"id\":\"ea07f10f-e9b4-4199-80ce-429209215486\",\"type\":\"LinearAxis\"},{\"attributes\":{},\"id\":\"678d7196-c8f6-443f-908a-a5fad9797cb4\",\"type\":\"WheelZoomTool\"},{\"attributes\":{\"plot\":null,\"text\":\"\"},\"id\":\"95b8859e-8b7e-4700-855a-00d67577a4b8\",\"type\":\"Title\"},{\"attributes\":{\"overlay\":{\"id\":\"ae8b8a89-ae2d-4df2-94c7-74940dd78815\",\"type\":\"BoxAnnotation\"}},\"id\":\"ae4ed5f8-801f-4bf9-841d-147abe468176\",\"type\":\"BoxZoomTool\"},{\"attributes\":{\"data_source\":{\"id\":\"05e9af59-167e-4922-af08-46ac2d06d780\",\"type\":\"ColumnDataSource\"},\"glyph\":{\"id\":\"2b37972b-becb-45ce-b3f4-fca112eecd33\",\"type\":\"Line\"},\"hover_glyph\":null,\"muted_glyph\":null,\"nonselection_glyph\":{\"id\":\"9c6746a7-bb08-4518-b81a-3bb6774727e7\",\"type\":\"Line\"},\"selection_glyph\":null,\"view\":{\"id\":\"7d403dea-9d07-4a6f-bad1-90d0717c9a7a\",\"type\":\"CDSView\"}},\"id\":\"677c59aa-c5b6-4bcc-98b8-44c084508d89\",\"type\":\"GlyphRenderer\"},{\"attributes\":{},\"id\":\"f43ae1ab-b625-43d3-bb06-86311880ffe5\",\"type\":\"BasicTickFormatter\"}],\"root_ids\":[\"ff14de90-26db-4a69-b618-d8a341fe65de\"]},\"title\":\"Bokeh Application\",\"version\":\"0.12.14\"}};\n",
       "  var render_items = [{\"docid\":\"5eba746b-aa74-4095-8464-d9bb787f6e1d\",\"elementid\":\"2cac6f9f-d693-4392-8072-138d8d6f0c77\",\"modelid\":\"ff14de90-26db-4a69-b618-d8a341fe65de\"}];\n",
       "  root.Bokeh.embed.embed_items_notebook(docs_json, render_items);\n",
       "\n",
       "  }\n",
       "  if (root.Bokeh !== undefined) {\n",
       "    embed_document(root);\n",
       "  } else {\n",
       "    var attempts = 0;\n",
       "    var timer = setInterval(function(root) {\n",
       "      if (root.Bokeh !== undefined) {\n",
       "        embed_document(root);\n",
       "        clearInterval(timer);\n",
       "      }\n",
       "      attempts++;\n",
       "      if (attempts > 100) {\n",
       "        console.log(\"Bokeh: ERROR: Unable to run BokehJS code because BokehJS library is missing\")\n",
       "        clearInterval(timer);\n",
       "      }\n",
       "    }, 10, root)\n",
       "  }\n",
       "})(window);"
      ],
      "application/vnd.bokehjs_exec.v0+json": ""
     },
     "metadata": {
      "application/vnd.bokehjs_exec.v0+json": {
       "id": "ff14de90-26db-4a69-b618-d8a341fe65de"
      }
     },
     "output_type": "display_data"
    }
   ],
   "source": [
    "telaraña(lambda x:x/2, np.arange(-1,1,.01), [-1, 1])"
   ]
  },
  {
   "cell_type": "code",
   "execution_count": 16,
   "metadata": {},
   "outputs": [
    {
     "data": {
      "text/plain": [
       "0.99"
      ]
     },
     "execution_count": 16,
     "metadata": {},
     "output_type": "execute_result"
    }
   ],
   "source": [
    "np.max(x)"
   ]
  },
  {
   "cell_type": "code",
   "execution_count": 17,
   "metadata": {},
   "outputs": [
    {
     "data": {
      "text/plain": [
       "array([0.  , 0.01, 0.02, 0.03, 0.04, 0.05, 0.06, 0.07, 0.08, 0.09, 0.1 ,\n",
       "       0.11, 0.12, 0.13, 0.14, 0.15, 0.16, 0.17, 0.18, 0.19, 0.2 , 0.21,\n",
       "       0.22, 0.23, 0.24, 0.25, 0.26, 0.27, 0.28, 0.29, 0.3 , 0.31, 0.32,\n",
       "       0.33, 0.34, 0.35, 0.36, 0.37, 0.38, 0.39, 0.4 , 0.41, 0.42, 0.43,\n",
       "       0.44, 0.45, 0.46, 0.47, 0.48, 0.49, 0.5 , 0.51, 0.52, 0.53, 0.54,\n",
       "       0.55, 0.56, 0.57, 0.58, 0.59, 0.6 , 0.61, 0.62, 0.63, 0.64, 0.65,\n",
       "       0.66, 0.67, 0.68, 0.69, 0.7 , 0.71, 0.72, 0.73, 0.74, 0.75, 0.76,\n",
       "       0.77, 0.78, 0.79, 0.8 , 0.81, 0.82, 0.83, 0.84, 0.85, 0.86, 0.87,\n",
       "       0.88, 0.89, 0.9 , 0.91, 0.92, 0.93, 0.94, 0.95, 0.96, 0.97, 0.98,\n",
       "       0.99])"
      ]
     },
     "execution_count": 17,
     "metadata": {},
     "output_type": "execute_result"
    }
   ],
   "source": [
    "x"
   ]
  }
 ],
 "metadata": {
  "kernelspec": {
   "display_name": "Python 3",
   "language": "python",
   "name": "python3"
  },
  "language_info": {
   "codemirror_mode": {
    "name": "ipython",
    "version": 3
   },
   "file_extension": ".py",
   "mimetype": "text/x-python",
   "name": "python",
   "nbconvert_exporter": "python",
   "pygments_lexer": "ipython3",
   "version": "3.6.4"
  }
 },
 "nbformat": 4,
 "nbformat_minor": 2
}
