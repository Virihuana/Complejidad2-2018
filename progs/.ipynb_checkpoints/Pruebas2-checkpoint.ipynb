{
 "cells": [
  {
   "cell_type": "code",
   "execution_count": 11,
   "metadata": {},
   "outputs": [],
   "source": [
    "# Esta es la definición de la función\n",
    "def f(x):\n",
    "    return (x-4)**2-1\n",
    "\n",
    "def g(x):\n",
    "    return (x-6)**2-9"
   ]
  },
  {
   "cell_type": "code",
   "execution_count": 34,
   "metadata": {},
   "outputs": [],
   "source": [
    "\"Método de Newton para encontrar raices. Versión Python.\"\n",
    "\n",
    "def raiz(f, a, b):\n",
    "    epsilon = 1e-100   # 1 * 10 ** (-5)\n",
    "    if f(a) == 0:\n",
    "        return a\n",
    "    if f(b) == 0:\n",
    "        return b\n",
    "    # si llegamos hasta este punto, quiere decir que no hemos encontrado la raiz\n",
    "    # revisemos la condición de Newton: f(a) y f(b) deben tener signos contrarios\n",
    "    if f(a) * f(b) < 0:\n",
    "        while abs(a - b) > epsilon:\n",
    "            #print(\"Ya vas!, tenemos un buen intervalo\")\n",
    "            c = (a + b) / 2  # calculamos punto medio del intervalo\n",
    "            if f(a) * f(c) < 0:\n",
    "                b = c\n",
    "            else:    # ... y si no ...\n",
    "                a = c\n",
    "        return a\n",
    "    else:\n",
    "        print(\"Error: Se necesita un intervalo que contenga una raiz (evalúen a signos contrarios)\")\n"
   ]
  },
  {
   "cell_type": "code",
   "execution_count": 38,
   "metadata": {},
   "outputs": [
    {
     "data": {
      "text/plain": [
       "4.5"
      ]
     },
     "execution_count": 38,
     "metadata": {},
     "output_type": "execute_result"
    }
   ],
   "source": [
    "raiz(g,4.5,7)"
   ]
  },
  {
   "cell_type": "code",
   "execution_count": 39,
   "metadata": {},
   "outputs": [
    {
     "data": {
      "text/plain": [
       "(-6.75, -8)"
      ]
     },
     "execution_count": 39,
     "metadata": {},
     "output_type": "execute_result"
    }
   ],
   "source": [
    "g(4.5), g(7)"
   ]
  },
  {
   "cell_type": "code",
   "execution_count": null,
   "metadata": {
    "collapsed": true
   },
   "outputs": [],
   "source": []
  }
 ],
 "metadata": {
  "kernelspec": {
   "display_name": "Python 3",
   "language": "python",
   "name": "python3"
  },
  "language_info": {
   "codemirror_mode": {
    "name": "ipython",
    "version": 3
   },
   "file_extension": ".py",
   "mimetype": "text/x-python",
   "name": "python",
   "nbconvert_exporter": "python",
   "pygments_lexer": "ipython3",
   "version": "3.6.4"
  }
 },
 "nbformat": 4,
 "nbformat_minor": 2
}
