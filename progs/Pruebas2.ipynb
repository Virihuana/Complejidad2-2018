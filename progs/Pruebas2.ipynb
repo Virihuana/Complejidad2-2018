{
 "cells": [
  {
   "cell_type": "code",
   "execution_count": 2,
   "metadata": {},
   "outputs": [],
   "source": [
    "# Esta es la definición de la función\n",
    "def f(x):\n",
    "    return (x-4)**2-1\n",
    "\n",
    "def g(x):\n",
    "    return (x-6)**2-9"
   ]
  },
  {
   "cell_type": "code",
   "execution_count": 12,
   "metadata": {},
   "outputs": [],
   "source": [
    "\"Método de Newton para encontrar raices. Versión Python.\"\n",
    "\n",
    "def raiz(f, a, b):\n",
    "    epsilon = 1e-10   # 1 * 10 ** (-5)\n",
    "    print(\"f(a)=\", f(a), \"f(b)=\", f(b))\n",
    "    if f(a) == 0:\n",
    "        return a\n",
    "    if f(b) == 0:\n",
    "        return b\n",
    "    # si llegamos hasta este punto, quiere decir que no hemos encontrado la raiz\n",
    "    # revisemos la condición de Newton: f(a) y f(b) deben tener signos contrarios\n",
    "    if f(a) * f(b) < 0:\n",
    "        while abs(a - b) > epsilon:\n",
    "            #print(\"Ya vas!, tenemos un buen intervalo\")\n",
    "            c = (a + b) / 2  # calculamos punto medio del intervalo\n",
    "            if f(a) * f(c) < 0:\n",
    "                b = c\n",
    "            else:    # ... y si no ...\n",
    "                a = c\n",
    "        return a\n",
    "    else:\n",
    "        print(\"Error: Se necesita un intervalo que contenga una raiz (evalúen a signos contrarios)\")\n"
   ]
  },
  {
   "cell_type": "code",
   "execution_count": 13,
   "metadata": {},
   "outputs": [
    {
     "name": "stdout",
     "output_type": "stream",
     "text": [
      "f(a)= 27 f(b)= -6.75\n"
     ]
    },
    {
     "data": {
      "text/plain": [
       "2.9999999999563443"
      ]
     },
     "execution_count": 13,
     "metadata": {},
     "output_type": "execute_result"
    }
   ],
   "source": [
    "raiz(g, 0, 4.5)"
   ]
  },
  {
   "cell_type": "code",
   "execution_count": 39,
   "metadata": {},
   "outputs": [
    {
     "data": {
      "text/plain": [
       "(-6.75, -8)"
      ]
     },
     "execution_count": 39,
     "metadata": {},
     "output_type": "execute_result"
    }
   ],
   "source": [
    "g(4.5), g(7)"
   ]
  },
  {
   "cell_type": "code",
   "execution_count": null,
   "metadata": {
    "collapsed": true
   },
   "outputs": [],
   "source": []
  }
 ],
 "metadata": {
  "kernelspec": {
   "display_name": "Python 3",
   "language": "python",
   "name": "python3"
  }
 },
 "nbformat": 4,
 "nbformat_minor": 2
}
